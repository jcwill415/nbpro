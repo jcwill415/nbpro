{
 "cells": [
  {
   "cell_type": "code",
   "execution_count": null,
   "metadata": {},
   "outputs": [],
   "source": [
    "import subprocess"
   ]
  },
  {
   "cell_type": "markdown",
   "metadata": {},
   "source": [
    "# Getting Started"
   ]
  },
  {
   "cell_type": "markdown",
   "metadata": {},
   "source": [
    "## Installation"
   ]
  },
  {
   "cell_type": "markdown",
   "metadata": {},
   "source": [
    "### Easiest way to install"
   ]
  },
  {
   "cell_type": "markdown",
   "metadata": {},
   "source": [
    "For the longest time, I avoided installing Jupyter extensions, thinking that the process would be long and hard. I got this idea from googling \"Jupyter Extensions\" and getting hit with a wall of docs on [this page](https://jupyter-contrib-nbextensions.readthedocs.io/en/latest/) and [this one](https://jupyter-contrib-nbextensions.readthedocs.io/en/latest/install.html). \n",
    "\n",
    "Sometime later, I stumbled upon this [fastai forum post](https://forums.fast.ai/t/useful-jupyter-notebook-tips-plugins-collapsible-sections/17919) from [Mark Rostock](https://forums.fast.ai/u/marcmuc/) and realized it's extremely easy. The following 3 lines will \n",
    "- install nbextensions\n",
    "- add the necessary javascript and css files\n",
    "- give you an AWESOME interface called nbconfigurator for discovering new extensions and turning them on and off. "
   ]
  },
  {
   "cell_type": "code",
   "execution_count": null,
   "metadata": {},
   "outputs": [
    {
     "name": "stderr",
     "output_type": "stream",
     "text": [
      "Enabling: jupyter_nbextensions_configurator\n",
      "- Writing config: C:\\Users\\Rob\\.jupyter\n",
      "    - Validating...\n",
      "      jupyter_nbextensions_configurator 0.4.1 ok\n",
      "Enabling notebook nbextension nbextensions_configurator/config_menu/main...\n",
      "Enabling tree nbextension nbextensions_configurator/tree_tab/main...\n"
     ]
    }
   ],
   "source": [
    "#! pip install jupyter_contrib_nbextensions\n",
    "#! jupyter contrib nbextension install --user\n",
    "! jupyter nbextensions_configurator enable --user"
   ]
  },
  {
   "cell_type": "markdown",
   "metadata": {},
   "source": [
    "### New NBConfigurator Tab"
   ]
  },
  {
   "cell_type": "markdown",
   "metadata": {},
   "source": [
    "Once you've done this, go back to the jupyter directory window and you'll see a new tab for Nbextensions\n",
    "![New NBExtensions tab!](images/nbextensions.png)"
   ]
  },
  {
   "cell_type": "markdown",
   "metadata": {},
   "source": [
    "Initially this page won't look very fun. "
   ]
  },
  {
   "cell_type": "markdown",
   "metadata": {},
   "source": [
    "![Disabled Extensions](images/extensions_disabled.png)"
   ]
  },
  {
   "cell_type": "markdown",
   "metadata": {},
   "source": [
    "That's because the default is to not allow configuration of extensions that don't have explicit compatibility with your environment. Why are they all incompatible? According to [this StackOverflow post](https://stackoverflow.com/questions/58146683/all-jupyter-contrib-nbextensions-are-marked-as-possibly-incompatible), it may be that the extensions haven't been tested against the current latest version of jupyter, and it will probably be fine. If you trust that post's 6 upvotes, and the experience of me and a few friends, than uncheck that box and let's get moving."
   ]
  },
  {
   "cell_type": "markdown",
   "metadata": {},
   "source": [
    "![List of extensions](images/extensions_list.png)"
   ]
  },
  {
   "cell_type": "markdown",
   "metadata": {},
   "source": [
    "To enable/disable a given extension, click the checkbox next to its name. To see an extensions documentation and configuration options, click the extension name and scroll down. "
   ]
  },
  {
   "cell_type": "markdown",
   "metadata": {},
   "source": [
    "Note that there are 68 possible extensions, and that while nbconfigurator makes it much easier to enable, disable and configure them, it's still a lot of work to figure out the few that are worth using. I tried all 68 for you and did my best to group them as \n",
    "- <strong>Essential</strong> - Extensions that I now can't imagine developing without\n",
    "- <strong>Nice to Have</strong> - Things that make life a little bit easier\n",
    "- <strong>Useful for Some</strong> - Extremely useful for some people, not very useful for others (e.g. language translation)\n",
    "\n",
    "That being said, definitely skim them and see if there are any that jump out at you. While most of them are too niche for this article, they all have a use and that one thing might be exactly what you're looking for."
   ]
  },
  {
   "cell_type": "markdown",
   "metadata": {},
   "source": [
    "## Essential Extensions "
   ]
  },
  {
   "cell_type": "markdown",
   "metadata": {},
   "source": [
    "#### Too long, didn't read:"
   ]
  },
  {
   "cell_type": "markdown",
   "metadata": {},
   "source": [
    "- Table of Contents 2 - Dynamic table of contents for navigating notebooks\n",
    "- Collapsible Headings - Easily collapse whole sections of your notebook\n",
    "- Snippets Menu - Menu to insert common code snippets from the most popular libraries.\n",
    "- Notify - When cell execution is taking a long time, get notified when it finishes.\n",
    "- LiveMarkdownPreview - Preview your markdown cells in real time as you type"
   ]
  },
  {
   "cell_type": "markdown",
   "metadata": {},
   "source": [
    "This notebook is meant to quickly introduce you to all the extensions. Going back and forth between the NBConfigurator tab and here, and refreshing the notebook will break the flow of that, so we are going to turn on/off all extensions introduced in the section at the same time, and then you'll only need to refresh the page once. \n",
    "\n",
    "The path to turn each extension off and on via command line can be found by clicking on the extension in the Nbextensions tab and looking at require_path. In this case it's `snippets_menu/main`  ![Where to find the path to extension](images/require_path.png)"
   ]
  },
  {
   "cell_type": "markdown",
   "metadata": {},
   "source": [
    "#### Enabling all essential extensions"
   ]
  },
  {
   "cell_type": "code",
   "execution_count": null,
   "metadata": {},
   "outputs": [
    {
     "name": "stderr",
     "output_type": "stream",
     "text": [
      "Enabling notebook extension collapsible_headings/main...\n",
      "      - Validating: ok\n",
      "Enabling notebook extension toc2/main...\n",
      "      - Validating: ok\n",
      "Enabling notebook extension snippets_menu/main...\n",
      "      - Validating: ok\n",
      "Enabling notebook extension livemdpreview/livemdpreview...\n",
      "      - Validating: ok\n",
      "Enabling notebook extension notify/notify...\n",
      "      - Validating: ok\n"
     ]
    }
   ],
   "source": [
    "!jupyter nbextension enable collapsible_headings/main\n",
    "!jupyter nbextension enable toc2/main\n",
    "!jupyter nbextension enable snippets_menu/main\n",
    "!jupyter nbextension enable livemdpreview/livemdpreview\n",
    "!jupyter nbextension enable notify/notify"
   ]
  },
  {
   "cell_type": "markdown",
   "metadata": {},
   "source": [
    "Note: don't refresh the page yet, as we will use the refresh as an opportunity to show how to navigate the page using the toc2 extension. "
   ]
  },
  {
   "cell_type": "markdown",
   "metadata": {},
   "source": [
    "### ToC2 (Table of Contents Extension)"
   ]
  },
  {
   "cell_type": "markdown",
   "metadata": {},
   "source": [
    "<strong>If you work in long notebooks, and especially if you do [notebook development](https://nbdev.fast.ai/), this extension will change your life. </strong>"
   ]
  },
  {
   "cell_type": "markdown",
   "metadata": {},
   "source": [
    "ToC2 provides you with a dynamically generated table of contents based on your notebook header hierarchy. You can display the table of contents as a sidebar in the space that jupyter normally wastes. This will allow you to easily jump to different sections of your notebook. Also each header will be given a number for it's section and subsection, like 2.0, 2.1, 2.1.1...etc. \n",
    "\n",
    "In a minute, when you refresh the page, you'll notice a few more options on your toolbar"
   ]
  },
  {
   "cell_type": "markdown",
   "metadata": {},
   "source": [
    "![ToC Toolbar Buttons](images/toc_toolbar.png)"
   ]
  },
  {
   "cell_type": "markdown",
   "metadata": {},
   "source": [
    "The navigate button will show you a table of contents (you may need to resize the window by dragging from the lower right corner), but my preferred option is a dedicated sidebar. You get that by clicking the toc button the red arrow is pointing at. So go ahead and refresh the page, click that button, and then come back here by finding and clicking the ToC2 (Table of Contents Extension) section in your new ToC sidebar"
   ]
  },
  {
   "cell_type": "markdown",
   "metadata": {},
   "source": [
    "#### ToC Tips and Customization\n"
   ]
  },
  {
   "cell_type": "markdown",
   "metadata": {},
   "source": [
    "A great feature of ToC is that when you run large chunks of the notebook, it will visualize this by highlighting any sections of the ToC sidebar that have code cells, and changing their colors as they execute to show their progress."
   ]
  },
  {
   "cell_type": "markdown",
   "metadata": {},
   "source": [
    "You can customize ToC directly in the new sidebar by clicking on the settings gearbox next to \"Contents\". Below is an image with my recommended settings. I'd especially recommend \"Display ToC window at startup\", and \"Leave h1 items out of ToC\" as h1 is usually reserved for NB Titles, and will give your ToC an unnecessary layer of nesting\n",
    "![Table of contents settings](images/toc_settings.png)"
   ]
  },
  {
   "cell_type": "markdown",
   "metadata": {},
   "source": [
    "### Collapsible Headings"
   ]
  },
  {
   "cell_type": "markdown",
   "metadata": {},
   "source": [
    "<strong>Long notebooks don't have to be long anymore. If you use code folding in your favorite editor, you should be using collapsible headings in Jupyter Notebook </strong>"
   ]
  },
  {
   "cell_type": "markdown",
   "metadata": {},
   "source": [
    "The collapsible headings extension is exactly what it sounds like, it adds little arrows next to each section that, when you click, collapse that section and all it's subsections. Like code folding, it's great for staying focused on only what you need to see at that moment. It adds no new toolbar buttons, just little arrows next to your headings that will collapse everything between that heading, and the next heading of equal size. Go ahead and try it out"
   ]
  },
  {
   "cell_type": "markdown",
   "metadata": {},
   "source": [
    "![Where to click Collapsible Headings](images/collapse.jpg)"
   ]
  },
  {
   "cell_type": "markdown",
   "metadata": {},
   "source": [
    "#### Tips and Customization"
   ]
  },
  {
   "cell_type": "markdown",
   "metadata": {},
   "source": [
    "There are a few things you can do to make this even better (all these settings can be adjusted by clicking on nbconfigurator -> Collapsible Headings -> then scrolling down.\n",
    "- Keyboard shortcuts for folding/unfolding one/all sections  \n",
    "![Collapsible Headings Shortcuts](images/collapse_shortcuts1.png)  \n",
    "\n",
    "\n",
    "- Keyboard shortcuts to insert a new section below. When you hit 'b' on a collapsed cell, it will insert a new cell immediately below inside the subsection, but what you'll most often want is to insert a new header cell below the entire folded group.  \n",
    "![Collapsible Headings Shortcuts](images/collapse_shortcuts2.png)\n",
    "\n",
    "- A setting so that collapsing your Table of Contents also collapses the corresponding nb section\n",
    "![ToC and Collapsible Headings](images/collapse_toc.png)"
   ]
  },
  {
   "cell_type": "markdown",
   "metadata": {},
   "source": [
    "One more tip: Make sure you keep your headings in their own cells. Any markdown content in the same cell as the heading won't be collapsible."
   ]
  },
  {
   "cell_type": "markdown",
   "metadata": {},
   "source": [
    "### Snippets Menu"
   ]
  },
  {
   "cell_type": "markdown",
   "metadata": {},
   "source": [
    "<strong>Are you still struggling to remember code you use all the time? If these 3 lines just won't stick in your brain:</strong>  \n",
    "`%matplotlib inline`  \n",
    "`%load_ext autoreload`  \n",
    "`%autoreload 2`  \n",
    "<strong>There's an extension for that</strong>"
   ]
  },
  {
   "cell_type": "markdown",
   "metadata": {},
   "source": [
    "![Code Snippets menu item](images/snippets.png)"
   ]
  },
  {
   "cell_type": "markdown",
   "metadata": {},
   "source": [
    "Snippets Menu is an add on to the toolbar in the form of a dropdown menu with the code for common operations in the most common libraries. If opening a new window and googling the code/syntax of something is a routine part of your workflow, this extension will save you time and tabs. "
   ]
  },
  {
   "cell_type": "markdown",
   "metadata": {},
   "source": [
    "#### Tips and Customization"
   ]
  },
  {
   "cell_type": "markdown",
   "metadata": {},
   "source": [
    "Possibly the best feature of Snippets Menu is the ability to fully customize your snippets by both adding to and removing from the defaults. I am really excited to see what the community comes up with here, and am especially excited to see some experts build fastai, pytorch, Latex menus and more."
   ]
  },
  {
   "cell_type": "markdown",
   "metadata": {},
   "source": [
    "### Notify"
   ]
  },
  {
   "cell_type": "markdown",
   "metadata": {},
   "source": [
    "<strong>Do you sometimes run code that takes an unknown amount of time to complete, so you  do something else and interrupt your attention every 1-2 minutes to come back and check on it? Notify is a better way</strong>"
   ]
  },
  {
   "cell_type": "markdown",
   "metadata": {},
   "source": [
    "Notify is an extension that starts a timer whenever jupyter is running a cell. If the execution exceeds a certain amount of time (user defined) you are notified when it's done. "
   ]
  },
  {
   "cell_type": "markdown",
   "metadata": {},
   "source": [
    "![Notify toolbar icon](images/notify.png)"
   ]
  },
  {
   "cell_type": "markdown",
   "metadata": {},
   "source": [
    "Try setting it to 5 (seconds) and then run the code in the next cell to see what happens."
   ]
  },
  {
   "cell_type": "code",
   "execution_count": null,
   "metadata": {},
   "outputs": [
    {
     "name": "stdout",
     "output_type": "stream",
     "text": [
      "1\n",
      "2\n",
      "3\n",
      "4\n",
      "5\n",
      "6\n"
     ]
    }
   ],
   "source": [
    "import time\n",
    "for i in range(6):\n",
    "    print(i+1)\n",
    "    time.sleep(1)"
   ]
  },
  {
   "cell_type": "markdown",
   "metadata": {},
   "source": [
    "This is awesome but something is missing. Notify doesn't keep me updated on the process, and estimate how long it will take to complete. It's outside the scope of this tutorial, but this is what the [fastprogress library](https://github.com/fastai/fastprogress) is for. It is extremely easy to use in 99% of cases, just import and wrap your iterable with pbar, and then get your notification from notify when it's all done. "
   ]
  },
  {
   "cell_type": "code",
   "execution_count": null,
   "metadata": {},
   "outputs": [
    {
     "data": {
      "text/html": [
       "\n",
       "    <div>\n",
       "        <style>\n",
       "            /* Turns off some styling */\n",
       "            progress {\n",
       "                /* gets rid of default border in Firefox and Opera. */\n",
       "                border: none;\n",
       "                /* Needs to be in here for Safari polyfill so background images work as expected. */\n",
       "                background-size: auto;\n",
       "            }\n",
       "            .progress-bar-interrupted, .progress-bar-interrupted::-webkit-progress-bar {\n",
       "                background: #F44336;\n",
       "            }\n",
       "        </style>\n",
       "      <progress value='110' class='' max='110', style='width:300px; height:20px; vertical-align: middle;'></progress>\n",
       "      100.00% [110/110 00:05<00:00]\n",
       "    </div>\n",
       "    "
      ],
      "text/plain": [
       "<IPython.core.display.HTML object>"
      ]
     },
     "metadata": {},
     "output_type": "display_data"
    }
   ],
   "source": [
    "# skip this cell if you don't have fastprogress, or better yet install it now by uncommenting the line below\n",
    "# !pip install fastprogress\n",
    "from fastprogress import progress_bar as pbar\n",
    "for i in pbar(range(110)): #changed from for i in range(110):\n",
    "    time.sleep(0.05)"
   ]
  },
  {
   "cell_type": "markdown",
   "metadata": {},
   "source": [
    "#### Tips and Customization"
   ]
  },
  {
   "cell_type": "code",
   "execution_count": null,
   "metadata": {},
   "outputs": [],
   "source": [
    "import time\n",
    "time.sleep(15)"
   ]
  },
  {
   "cell_type": "code",
   "execution_count": null,
   "metadata": {},
   "outputs": [],
   "source": [
    "time.sleep(65)"
   ]
  },
  {
   "cell_type": "markdown",
   "metadata": {},
   "source": [
    "### LiveMarkdownPreview"
   ]
  },
  {
   "cell_type": "markdown",
   "metadata": {},
   "source": [
    "<strong>We love jupyter because it is dynamic and interactive. Why do I have to type my markdown and then execute the cell to see what it looks like, I should be able to preview it in real time.</strong>"
   ]
  },
  {
   "cell_type": "markdown",
   "metadata": {},
   "source": [
    "This extension requires no new knowledge, it just works. You type in a markdown cell and it displays the rendered output as your readers will see it. No more repeatedly hitting shift-enter to see if you wrote the correct markdown. This plus a snippets menu for markdown and you'll be unstoppable."
   ]
  },
  {
   "cell_type": "markdown",
   "metadata": {},
   "source": [
    "#### Customization"
   ]
  },
  {
   "cell_type": "markdown",
   "metadata": {},
   "source": [
    "There are just two options for LiveMarkdownPreview in the configurator. One for how often the preview is updated (default 500ms seems perfect), and the other is whether you want the output to appear on the side, or below the cell you're working in. The default is below and I'd recommend keeping it that way, but the choice is yours."
   ]
  },
  {
   "cell_type": "markdown",
   "metadata": {},
   "source": [
    "### Disabling Essential Extensions"
   ]
  },
  {
   "cell_type": "markdown",
   "metadata": {},
   "source": [
    "My essential extensions might not be essential for you, so if you'd like to disable one or more of them, uncomment and run the relevant line, or toggle them in your nbconfigurator"
   ]
  },
  {
   "cell_type": "code",
   "execution_count": null,
   "metadata": {},
   "outputs": [],
   "source": [
    "# !jupyter nbextension disable collapsible_headings/main\n",
    "# !jupyter nbextension disable toc2/main\n",
    "# !jupyter nbextension disable snippets_menu/main\n",
    "# !jupyter nbextension disable livemdpreview/livemdpreview\n",
    "# !jupyter nbextension disable notify/notify"
   ]
  },
  {
   "cell_type": "markdown",
   "metadata": {},
   "source": [
    "## Nice to Have Extensions"
   ]
  },
  {
   "cell_type": "markdown",
   "metadata": {},
   "source": [
    "#### Too long, didn't read:"
   ]
  },
  {
   "cell_type": "markdown",
   "metadata": {},
   "source": [
    "- Gist-it - Share your notebook in just a few clicks\n",
    "- Code Folding - Allows you to fold inside of code cells just like a regular IDE\n",
    "- AutoSaveTime - Auto save your notebook every n minutes\n",
    "- ExecuteTime - Automatically show how long each cell took to execute. No need for time magics.\n",
    "- Hinterland - Code autocomplete suggestions for each keypress, not just after tab\n",
    "- Rubberband - Drag the mouse to select multiple cells at once\n",
    "- MoveSelectedCells - Add shortcuts to move cells up/down with Alt+up and Alt+down\n",
    "- Scratchpad - Create a throwaway cell to run code while not cluttering up your nb\n",
    "- Scrolldown - When a cell has long output, autoscroll down to the latest output"
   ]
  },
  {
   "cell_type": "markdown",
   "metadata": {},
   "source": [
    "#### Enabling all \"Nice to Have\" extensions"
   ]
  },
  {
   "cell_type": "code",
   "execution_count": null,
   "metadata": {},
   "outputs": [
    {
     "name": "stderr",
     "output_type": "stream",
     "text": [
      "Enabling notebook extension codefolding/main...\n",
      "      - Validating: ok\n",
      "Enabling notebook extension autosavetime/main...\n",
      "      - Validating: ok\n",
      "Enabling notebook extension execute_time/ExecuteTime...\n",
      "      - Validating: ok\n",
      "Enabling notebook extension hinterland/hinterland...\n",
      "      - Validating: ok\n",
      "Enabling notebook extension rubberband/main...\n",
      "      - Validating: ok\n",
      "Enabling notebook extension move_selected_cells/main...\n",
      "      - Validating: ok\n",
      "Enabling notebook extension scratchpad/main...\n",
      "      - Validating: ok\n",
      "Enabling notebook extension scroll_down/main...\n",
      "      - Validating: ok\n",
      "Enabling notebook extension gist_it/main...\n",
      "      - Validating: ok\n"
     ]
    }
   ],
   "source": [
    "!jupyter nbextension enable gist_it/main\n",
    "!jupyter nbextension enable codefolding/main\n",
    "!jupyter nbextension enable autosavetime/main\n",
    "!jupyter nbextension enable execute_time/ExecuteTime\n",
    "!jupyter nbextension enable hinterland/hinterland\n",
    "!jupyter nbextension enable rubberband/main\n",
    "!jupyter nbextension enable move_selected_cells/main\n",
    "!jupyter nbextension enable scratchpad/main\n",
    "!jupyter nbextension enable scroll_down/main"
   ]
  },
  {
   "cell_type": "markdown",
   "metadata": {},
   "source": [
    "Don't forget to refresh the page and note how much easier it is to get back to where you were when you have Toc2 and Collapsible Headings"
   ]
  },
  {
   "cell_type": "markdown",
   "metadata": {},
   "source": [
    "### Gist-it"
   ]
  },
  {
   "cell_type": "markdown",
   "metadata": {},
   "source": [
    "<strong>The easiest way to share your notebooks</strong>"
   ]
  },
  {
   "cell_type": "markdown",
   "metadata": {},
   "source": [
    "Gist-it adds a button to publish the current notebook as a [github gist](https://help.github.com/en/github/writing-on-github/creating-gists). Gists are a quick and easy way to share your code with others. Each gist is it's own git repository which means people can clone/fork your work and expand on it, if you choose to make it public.\n",
    "![Gist it example](images/gist1.png)"
   ]
  },
  {
   "cell_type": "markdown",
   "metadata": {},
   "source": [
    "Clicking the github gist button will give you a popup window that will allow you to make a public/private gist in one click.\n",
    "![Gist it popup window](images/gist2.png)"
   ]
  },
  {
   "cell_type": "markdown",
   "metadata": {},
   "source": [
    "<strong>Warning: the gists you upload won't include local media like images on your computer. </strong> Possible solutions are to only use online images, or host them online and make the links point there. The best solution is to follow the Tips and Customization section below and link your github account with an auth token, then you'll be able to add images to the repo that's created when you make the gist. Not sure how to add images to the gist repo? [Here's a nice gist that explains it](https://gist.github.com/mroderick/1afdd71aa69f6b29601d335751a1a9be)"
   ]
  },
  {
   "cell_type": "markdown",
   "metadata": {},
   "source": [
    "#### Tips and Customization"
   ]
  },
  {
   "cell_type": "markdown",
   "metadata": {},
   "source": [
    "![Gistit configuration page](images/gist3.png)  \n",
    "If you want to have the gist be associated with your github account, you'll need to generate and add a personal access token, something that only takes a few short steps. \n",
    "\n",
    "1. When logged in go to your [Github Personal Access Tokens](https://github.com/settings/tokens)\n",
    "1. Click Generate new token\n",
    "1. A big scary list of permissions pops up, you only need one (gist)  \n",
    "![Gist permission](images/gist4.png)  \n",
    "1. Copy that personal access token and paste it in the nbconfigurator for gistit where it says \"Github personal access token\""
   ]
  },
  {
   "cell_type": "markdown",
   "metadata": {},
   "source": [
    "That's it, now you're ready to share your code with the world. Googling and finding gists has saved me countless times."
   ]
  },
  {
   "cell_type": "markdown",
   "metadata": {},
   "source": [
    "### MoveSelectedCells"
   ]
  },
  {
   "cell_type": "markdown",
   "metadata": {},
   "source": [
    "<strong>Tired of trying combinations of C/V/Ctrl-C/Ctrl-V to move your cells around? This is an easier way.</strong>"
   ]
  },
  {
   "cell_type": "markdown",
   "metadata": {},
   "source": [
    "MoveSelectedCells brings a new keyboard shortcut that is standard in every other ide, the ability to slide a line of code up and down without using copy/paste. This gives us the same functionality, but for cells instead of individual lines. Using Alt+Up/Down while in command mode(blue) will move the cell up and down throughout the notebook. \n",
    "\n",
    "Better still, cells collapsed using the Collapsible Headings extension will move together as one cell using MoveSelectedCells! If you try to copy/paste or cut/paste a collapsed cell, only the header moves and everything breaks. I'm going to use this shortcut right now to reorder this tutorial."
   ]
  },
  {
   "cell_type": "markdown",
   "metadata": {},
   "source": [
    "### Code Folding"
   ]
  },
  {
   "cell_type": "markdown",
   "metadata": {},
   "source": [
    "<strong>The question isn't why should you have code folding, it's why shouldn't you?</strong>"
   ]
  },
  {
   "cell_type": "markdown",
   "metadata": {},
   "source": [
    "Codefolding is like collapsible headers, but for nested code instead of nested headers. Most of us don't have huge blocks of code in our jupyter notebooks but there's no reason not to have the option to fold your code, and if you're working through a code heavy notebook, it will probably be useful"
   ]
  },
  {
   "cell_type": "markdown",
   "metadata": {},
   "source": [
    "Here's a real class from a fastai audio library we are developing entirely in Jupyter notebook. It will fail if you try to run it, but it's a fairly good example of code to be folded, so play around with the little arrows on the side.   "
   ]
  },
  {
   "cell_type": "code",
   "execution_count": null,
   "metadata": {},
   "outputs": [
    {
     "ename": "NameError",
     "evalue": "name 'RandTransform' is not defined",
     "output_type": "error",
     "traceback": [
      "\u001b[1;31m---------------------------------------------------------------------------\u001b[0m",
      "\u001b[1;31mNameError\u001b[0m                                 Traceback (most recent call last)",
      "\u001b[1;32m<ipython-input-7-e423d1c1cbec>\u001b[0m in \u001b[0;36m<module>\u001b[1;34m\u001b[0m\n\u001b[1;32m----> 1\u001b[1;33m \u001b[1;32mclass\u001b[0m \u001b[0mSignalShifter\u001b[0m\u001b[1;33m(\u001b[0m\u001b[0mRandTransform\u001b[0m\u001b[1;33m)\u001b[0m\u001b[1;33m:\u001b[0m\u001b[1;33m\u001b[0m\u001b[1;33m\u001b[0m\u001b[0m\n\u001b[0m\u001b[0;32m      2\u001b[0m     \u001b[1;32mdef\u001b[0m \u001b[0m__init__\u001b[0m\u001b[1;33m(\u001b[0m\u001b[0mself\u001b[0m\u001b[1;33m,\u001b[0m \u001b[0mp\u001b[0m\u001b[1;33m=\u001b[0m\u001b[1;36m0.5\u001b[0m\u001b[1;33m,\u001b[0m \u001b[0mmax_pct\u001b[0m\u001b[1;33m=\u001b[0m \u001b[1;36m0.2\u001b[0m\u001b[1;33m,\u001b[0m \u001b[0mmax_time\u001b[0m\u001b[1;33m=\u001b[0m\u001b[1;32mNone\u001b[0m\u001b[1;33m,\u001b[0m \u001b[0mdirection\u001b[0m\u001b[1;33m=\u001b[0m\u001b[1;36m0\u001b[0m\u001b[1;33m,\u001b[0m \u001b[0mroll\u001b[0m\u001b[1;33m=\u001b[0m\u001b[1;32mFalse\u001b[0m\u001b[1;33m)\u001b[0m\u001b[1;33m:\u001b[0m\u001b[1;33m\u001b[0m\u001b[1;33m\u001b[0m\u001b[0m\n\u001b[0;32m      3\u001b[0m         \u001b[1;32mif\u001b[0m \u001b[0mdirection\u001b[0m \u001b[1;32mnot\u001b[0m \u001b[1;32min\u001b[0m \u001b[1;33m[\u001b[0m\u001b[1;33m-\u001b[0m\u001b[1;36m1\u001b[0m\u001b[1;33m,\u001b[0m \u001b[1;36m0\u001b[0m\u001b[1;33m,\u001b[0m \u001b[1;36m1\u001b[0m\u001b[1;33m]\u001b[0m\u001b[1;33m:\u001b[0m \u001b[1;32mraise\u001b[0m \u001b[0mValueError\u001b[0m\u001b[1;33m(\u001b[0m\u001b[1;34m\"Direction must be -1(left) 0(bidirectional) or 1(right)\"\u001b[0m\u001b[1;33m)\u001b[0m\u001b[1;33m\u001b[0m\u001b[1;33m\u001b[0m\u001b[0m\n\u001b[0;32m      4\u001b[0m         \u001b[0mstore_attr\u001b[0m\u001b[1;33m(\u001b[0m\u001b[0mself\u001b[0m\u001b[1;33m,\u001b[0m \u001b[1;34m\"max_pct,max_time,direction,roll\"\u001b[0m\u001b[1;33m)\u001b[0m\u001b[1;33m\u001b[0m\u001b[1;33m\u001b[0m\u001b[0m\n\u001b[0;32m      5\u001b[0m         \u001b[0msuper\u001b[0m\u001b[1;33m(\u001b[0m\u001b[1;33m)\u001b[0m\u001b[1;33m.\u001b[0m\u001b[0m__init__\u001b[0m\u001b[1;33m(\u001b[0m\u001b[0mp\u001b[0m\u001b[1;33m=\u001b[0m\u001b[0mp\u001b[0m\u001b[1;33m,\u001b[0m \u001b[0mas_item\u001b[0m\u001b[1;33m=\u001b[0m\u001b[1;32mTrue\u001b[0m\u001b[1;33m)\u001b[0m\u001b[1;33m\u001b[0m\u001b[1;33m\u001b[0m\u001b[0m\n",
      "\u001b[1;31mNameError\u001b[0m: name 'RandTransform' is not defined"
     ]
    }
   ],
   "source": [
    "class SignalShifter(RandTransform):\n",
    "    def __init__(self, p=0.5, max_pct= 0.2, max_time=None, direction=0, roll=False):\n",
    "        if direction not in [-1, 0, 1]: raise ValueError(\"Direction must be -1(left) 0(bidirectional) or 1(right)\")\n",
    "        store_attr(self, \"max_pct,max_time,direction,roll\")\n",
    "        super().__init__(p=p, as_item=True)\n",
    "\n",
    "    def before_call(self, b, split_idx):\n",
    "        super().before_call(b, split_idx)\n",
    "        self.shift_factor = random.uniform(-1, 1)\n",
    "        if self.direction != 0: self.shift_factor = self.direction*abs(self.shift_factor)\n",
    "\n",
    "    def encodes(self, ai:AudioTensor):\n",
    "        if self.max_time is None: s = self.shift_factor*self.max_pct*ai.nsamples\n",
    "        else:                     s = self.shift_factor*self.max_time*ai.sr\n",
    "        ai.data = shift_signal(ai.data, int(s), self.roll)\n",
    "        return ai\n",
    "\n",
    "    def encodes(self, sg:AudioSpectrogram):\n",
    "        if self.max_time is None: s = self.shift_factor*self.max_pct*sg.width\n",
    "        else:                     s = self.shift_factor*self.max_time*sg.sr\n",
    "        return shift_signal(sg, int(s), self.roll)"
   ]
  },
  {
   "cell_type": "markdown",
   "metadata": {},
   "source": [
    "If I'm working on the encodes section for AudioSpectrograms, it's easier to work on if it looks like this.  \n",
    "![Codefolding example 1](images/codefolding1.png)"
   ]
  },
  {
   "cell_type": "markdown",
   "metadata": {},
   "source": [
    "And if I'm working on some other class that is adjacent to `SignalShifter`, life will be easier if it looks like this  \n",
    "![Codefolding example 2](images/codefolding2.png)"
   ]
  },
  {
   "cell_type": "markdown",
   "metadata": {},
   "source": [
    "#### Tips and Customization"
   ]
  },
  {
   "cell_type": "markdown",
   "metadata": {},
   "source": [
    "The shortcut for folding is Alt-F but only works if you're on a line that has a triangular folding icon"
   ]
  },
  {
   "cell_type": "markdown",
   "metadata": {},
   "source": [
    "### AutoSaveTime"
   ]
  },
  {
   "cell_type": "markdown",
   "metadata": {},
   "source": [
    "<strong>Automatically save your notebook every n minutes</strong>"
   ]
  },
  {
   "cell_type": "markdown",
   "metadata": {},
   "source": [
    "Autosavetime lets you choose how often to autosave your notebooks. It creates a dropdown in the toolbar that lets you choose the setting. I have it set to two minutes which saves me in case my Google Cloud Server gets preempted while I'm working. "
   ]
  },
  {
   "cell_type": "markdown",
   "metadata": {},
   "source": [
    "![Autosavetime example](images/autosave.png)"
   ]
  },
  {
   "cell_type": "markdown",
   "metadata": {},
   "source": [
    "### ExecuteTime"
   ]
  },
  {
   "cell_type": "markdown",
   "metadata": {},
   "source": [
    "<strong>See how long every code cell takes to execute without having to add/remove timing code.</strong>"
   ]
  },
  {
   "cell_type": "markdown",
   "metadata": {},
   "source": [
    "This extension borders on essential. It gives you a timestamp and execution time in ms for every code cell, while taking up next to no additional space.  \n",
    "![ExecuteTime Example](images/execute_time0.png)"
   ]
  },
  {
   "cell_type": "markdown",
   "metadata": {},
   "source": [
    "#### Tips and Customization"
   ]
  },
  {
   "cell_type": "markdown",
   "metadata": {},
   "source": [
    "But can we trust it? The answer is \"well, kind of\". It appears to add a consistent 4-5ms of it's own execution time, so for anything that is important and runs in < 10ms, use %%time for a better estimate"
   ]
  },
  {
   "cell_type": "markdown",
   "metadata": {},
   "source": [
    "![ExecuteTime Compared to time %magic](images/execute_time1.png)"
   ]
  },
  {
   "cell_type": "markdown",
   "metadata": {},
   "source": [
    "There are multiple ways to customize the output string, and they are clearly described if you click on ExecuteTime in nbconfigurator. "
   ]
  },
  {
   "cell_type": "markdown",
   "metadata": {},
   "source": [
    "### Hinterland"
   ]
  },
  {
   "cell_type": "markdown",
   "metadata": {},
   "source": [
    "<strong>VSCode doesn't make me hit tab to see autocomplete options, why should Jupyter?</strong>"
   ]
  },
  {
   "cell_type": "markdown",
   "metadata": {},
   "source": [
    "The hinterland extension is simple but powerful. Start typing in a code cell and watch the options for autocomplete pop up automatically. Normally in Jupyter, you need to hit tab to show autocomplete options. Whether or not this extension is for you comes down to personal preference, so try it and find out. One annoying caveat is that magics (jupyter % and %% commands) are included in the autocomplete in contexts where they couldn't possibly appear  \n",
    "![Hinterland Example 1](images/hint_example1.png). Maybe someone can figure out a way to not include magics in the results, if so, contact me and I'll credit you here."
   ]
  },
  {
   "cell_type": "markdown",
   "metadata": {},
   "source": [
    "### Rubberband"
   ]
  },
  {
   "cell_type": "markdown",
   "metadata": {},
   "source": [
    "<strong>Select multiple cells at once by dragging the mouse</strong>"
   ]
  },
  {
   "cell_type": "markdown",
   "metadata": {},
   "source": [
    "This simple feature should be built in to Jupyter already. Hold down shift and click, then drag the mouse and a red dotted selection window appears that selects any cell it comes in contact with. Of course you can achieve multiple cell selection with shift + up/down while in command mode, but it's still a nice addition that comes with no cost"
   ]
  },
  {
   "cell_type": "markdown",
   "metadata": {},
   "source": [
    "![Rubberband Example from the docs](images/rubberband.jpg)"
   ]
  },
  {
   "cell_type": "markdown",
   "metadata": {},
   "source": [
    "### Scratchpad"
   ]
  },
  {
   "cell_type": "markdown",
   "metadata": {},
   "source": [
    "<strong>For the types who write notebooks that require an hour+ of cleanup before sharing</strong>"
   ]
  },
  {
   "cell_type": "markdown",
   "metadata": {},
   "source": [
    "This extension creates a little gray arrow in the lower right corner of your browser window. Clicking it opens a cell that will allow you to run as many code cells as you need to figure out how to do the thing you're trying to do, all without cluttering up your notebook, You can also show/hide the cell with the shortcut Ctrl-B.\n",
    "![Scratchpad example](images/scratchpad.png)"
   ]
  },
  {
   "cell_type": "markdown",
   "metadata": {},
   "source": [
    "State created in the scratchpad cells will carry over to the main notebook (i.e. x now is set to 1512 in the main notebook) so be extra cautious of any reproducibility issues you may accidentally introduce. "
   ]
  },
  {
   "cell_type": "markdown",
   "metadata": {},
   "source": [
    "### Scrolldown"
   ]
  },
  {
   "cell_type": "markdown",
   "metadata": {},
   "source": [
    "<strong>Okay, things are getting pretty marginal at this point, last one!</strong>"
   ]
  },
  {
   "cell_type": "markdown",
   "metadata": {},
   "source": [
    "Scrolldown is simple, once the output window overflows and a scrollbar is created, it automatically scrolls down and shows you the latest output"
   ]
  },
  {
   "cell_type": "code",
   "execution_count": null,
   "metadata": {},
   "outputs": [
    {
     "name": "stdout",
     "output_type": "stream",
     "text": [
      "0\n",
      "1\n",
      "2\n",
      "3\n",
      "4\n",
      "5\n",
      "6\n",
      "7\n",
      "8\n",
      "9\n",
      "10\n",
      "11\n",
      "12\n",
      "13\n",
      "14\n",
      "15\n",
      "16\n",
      "17\n",
      "18\n",
      "19\n",
      "20\n",
      "21\n",
      "22\n",
      "23\n",
      "24\n",
      "25\n",
      "26\n",
      "27\n",
      "28\n",
      "29\n",
      "30\n",
      "31\n",
      "32\n",
      "33\n",
      "34\n",
      "35\n",
      "36\n",
      "37\n",
      "38\n",
      "39\n",
      "40\n",
      "41\n",
      "42\n",
      "43\n",
      "44\n",
      "45\n",
      "46\n",
      "47\n",
      "48\n",
      "49\n",
      "50\n",
      "51\n",
      "52\n",
      "53\n",
      "54\n",
      "55\n",
      "56\n",
      "57\n",
      "58\n",
      "59\n",
      "60\n",
      "61\n",
      "62\n",
      "63\n",
      "64\n",
      "65\n",
      "66\n",
      "67\n",
      "68\n",
      "69\n",
      "70\n",
      "71\n",
      "72\n",
      "73\n",
      "74\n",
      "75\n",
      "76\n",
      "77\n",
      "78\n",
      "79\n",
      "80\n",
      "81\n",
      "82\n",
      "83\n",
      "84\n",
      "85\n",
      "86\n",
      "87\n",
      "88\n",
      "89\n",
      "90\n",
      "91\n",
      "92\n",
      "93\n",
      "94\n",
      "95\n",
      "96\n",
      "97\n",
      "98\n",
      "99\n",
      "100\n",
      "101\n",
      "102\n",
      "103\n",
      "104\n",
      "105\n",
      "106\n",
      "107\n",
      "108\n",
      "109\n",
      "110\n",
      "111\n",
      "112\n",
      "113\n",
      "114\n",
      "115\n",
      "116\n",
      "117\n",
      "118\n",
      "119\n",
      "120\n",
      "121\n",
      "122\n",
      "123\n",
      "124\n",
      "125\n",
      "126\n",
      "127\n",
      "128\n",
      "129\n",
      "130\n",
      "131\n",
      "132\n",
      "133\n",
      "134\n",
      "135\n",
      "136\n",
      "137\n",
      "138\n",
      "139\n",
      "140\n",
      "141\n",
      "142\n",
      "143\n",
      "144\n",
      "145\n",
      "146\n",
      "147\n",
      "148\n",
      "149\n",
      "150\n",
      "151\n",
      "152\n",
      "153\n",
      "154\n",
      "155\n",
      "156\n",
      "157\n",
      "158\n",
      "159\n",
      "160\n",
      "161\n",
      "162\n",
      "163\n",
      "164\n",
      "165\n",
      "166\n",
      "167\n",
      "168\n",
      "169\n",
      "170\n",
      "171\n",
      "172\n",
      "173\n",
      "174\n",
      "175\n",
      "176\n",
      "177\n",
      "178\n",
      "179\n",
      "180\n",
      "181\n",
      "182\n",
      "183\n",
      "184\n",
      "185\n",
      "186\n",
      "187\n",
      "188\n",
      "189\n",
      "190\n",
      "191\n",
      "192\n",
      "193\n",
      "194\n",
      "195\n",
      "196\n",
      "197\n",
      "198\n",
      "199\n",
      "200\n",
      "201\n",
      "202\n",
      "203\n",
      "204\n",
      "205\n",
      "206\n",
      "207\n",
      "208\n",
      "209\n",
      "210\n",
      "211\n",
      "212\n",
      "213\n",
      "214\n",
      "215\n",
      "216\n",
      "217\n",
      "218\n",
      "219\n",
      "220\n",
      "221\n",
      "222\n",
      "223\n",
      "224\n",
      "225\n",
      "226\n",
      "227\n",
      "228\n",
      "229\n",
      "230\n",
      "231\n",
      "232\n",
      "233\n",
      "234\n",
      "235\n",
      "236\n",
      "237\n",
      "238\n",
      "239\n",
      "240\n",
      "241\n",
      "242\n",
      "243\n",
      "244\n",
      "245\n",
      "246\n",
      "247\n",
      "248\n",
      "249\n",
      "250\n",
      "251\n",
      "252\n",
      "253\n",
      "254\n",
      "255\n",
      "256\n",
      "257\n",
      "258\n",
      "259\n",
      "260\n",
      "261\n",
      "262\n",
      "263\n",
      "264\n",
      "265\n",
      "266\n",
      "267\n",
      "268\n",
      "269\n",
      "270\n",
      "271\n",
      "272\n",
      "273\n",
      "274\n",
      "275\n",
      "276\n",
      "277\n",
      "278\n",
      "279\n",
      "280\n",
      "281\n",
      "282\n",
      "283\n",
      "284\n",
      "285\n",
      "286\n",
      "287\n",
      "288\n",
      "289\n",
      "290\n",
      "291\n",
      "292\n",
      "293\n",
      "294\n",
      "295\n",
      "296\n",
      "297\n",
      "298\n",
      "299\n",
      "300\n",
      "301\n",
      "302\n",
      "303\n",
      "304\n",
      "305\n",
      "306\n",
      "307\n",
      "308\n",
      "309\n",
      "310\n",
      "311\n",
      "312\n",
      "313\n",
      "314\n",
      "315\n",
      "316\n",
      "317\n",
      "318\n",
      "319\n",
      "320\n",
      "321\n",
      "322\n",
      "323\n",
      "324\n",
      "325\n",
      "326\n",
      "327\n",
      "328\n",
      "329\n",
      "330\n",
      "331\n",
      "332\n",
      "333\n",
      "334\n",
      "335\n",
      "336\n",
      "337\n",
      "338\n",
      "339\n",
      "340\n",
      "341\n",
      "342\n",
      "343\n",
      "344\n",
      "345\n",
      "346\n",
      "347\n",
      "348\n",
      "349\n",
      "350\n",
      "351\n",
      "352\n",
      "353\n",
      "354\n",
      "355\n",
      "356\n",
      "357\n",
      "358\n",
      "359\n",
      "360\n",
      "361\n",
      "362\n",
      "363\n",
      "364\n",
      "365\n",
      "366\n",
      "367\n",
      "368\n",
      "369\n",
      "370\n",
      "371\n",
      "372\n",
      "373\n",
      "374\n",
      "375\n",
      "376\n",
      "377\n",
      "378\n",
      "379\n",
      "380\n",
      "381\n",
      "382\n",
      "383\n",
      "384\n",
      "385\n",
      "386\n",
      "387\n",
      "388\n",
      "389\n",
      "390\n",
      "391\n",
      "392\n",
      "393\n",
      "394\n",
      "395\n",
      "396\n",
      "397\n",
      "398\n",
      "399\n",
      "400\n",
      "401\n",
      "402\n",
      "403\n",
      "404\n",
      "405\n",
      "406\n",
      "407\n",
      "408\n",
      "409\n",
      "410\n",
      "411\n",
      "412\n",
      "413\n",
      "414\n",
      "415\n",
      "416\n",
      "417\n",
      "418\n",
      "419\n",
      "420\n",
      "421\n",
      "422\n",
      "423\n",
      "424\n",
      "425\n",
      "426\n",
      "427\n",
      "428\n",
      "429\n",
      "430\n",
      "431\n",
      "432\n",
      "433\n",
      "434\n",
      "435\n",
      "436\n",
      "437\n",
      "438\n",
      "439\n",
      "440\n",
      "441\n",
      "442\n",
      "443\n",
      "444\n",
      "445\n",
      "446\n",
      "447\n",
      "448\n",
      "449\n",
      "450\n",
      "451\n",
      "452\n",
      "453\n",
      "454\n",
      "455\n",
      "456\n",
      "457\n",
      "458\n",
      "459\n",
      "460\n",
      "461\n",
      "462\n",
      "463\n",
      "464\n",
      "465\n",
      "466\n",
      "467\n",
      "468\n",
      "469\n",
      "470\n",
      "471\n",
      "472\n",
      "473\n",
      "474\n",
      "475\n",
      "476\n",
      "477\n",
      "478\n",
      "479\n",
      "480\n",
      "481\n",
      "482\n",
      "483\n",
      "484\n",
      "485\n",
      "486\n",
      "487\n",
      "488\n",
      "489\n",
      "490\n",
      "491\n",
      "492\n",
      "493\n",
      "494\n",
      "495\n",
      "496\n",
      "497\n",
      "498\n",
      "499\n",
      "500\n",
      "501\n",
      "502\n",
      "503\n",
      "504\n",
      "505\n",
      "506\n",
      "507\n",
      "508\n",
      "509\n",
      "510\n",
      "511\n",
      "512\n",
      "513\n",
      "514\n",
      "515\n",
      "516\n",
      "517\n",
      "518\n",
      "519\n",
      "520\n",
      "521\n",
      "522\n",
      "523\n",
      "524\n",
      "525\n",
      "526\n",
      "527\n",
      "528\n",
      "529\n",
      "530\n",
      "531\n",
      "532\n",
      "533\n",
      "534\n",
      "535\n",
      "536\n",
      "537\n",
      "538\n",
      "539\n",
      "540\n",
      "541\n",
      "542\n",
      "543\n",
      "544\n",
      "545\n",
      "546\n",
      "547\n",
      "548\n",
      "549\n",
      "550\n",
      "551\n",
      "552\n",
      "553\n",
      "554\n",
      "555\n",
      "556\n",
      "557\n",
      "558\n",
      "559\n",
      "560\n",
      "561\n",
      "562\n",
      "563\n",
      "564\n",
      "565\n",
      "566\n",
      "567\n",
      "568\n",
      "569\n",
      "570\n",
      "571\n",
      "572\n",
      "573\n",
      "574\n",
      "575\n",
      "576\n",
      "577\n",
      "578\n",
      "579\n",
      "580\n",
      "581\n",
      "582\n",
      "583\n",
      "584\n",
      "585\n",
      "586\n",
      "587\n",
      "588\n",
      "589\n",
      "590\n",
      "591\n",
      "592\n",
      "593\n",
      "594\n",
      "595\n",
      "596\n",
      "597\n",
      "598\n",
      "599\n",
      "600\n",
      "601\n",
      "602\n",
      "603\n",
      "604\n",
      "605\n",
      "606\n",
      "607\n",
      "608\n",
      "609\n",
      "610\n",
      "611\n",
      "612\n",
      "613\n",
      "614\n",
      "615\n",
      "616\n",
      "617\n",
      "618\n",
      "619\n",
      "620\n",
      "621\n",
      "622\n",
      "623\n",
      "624\n",
      "625\n",
      "626\n",
      "627\n",
      "628\n",
      "629\n",
      "630\n",
      "631\n",
      "632\n",
      "633\n",
      "634\n",
      "635\n",
      "636\n",
      "637\n",
      "638\n",
      "639\n",
      "640\n",
      "641\n",
      "642\n",
      "643\n",
      "644\n",
      "645\n",
      "646\n",
      "647\n",
      "648\n",
      "649\n",
      "650\n",
      "651\n",
      "652\n",
      "653\n",
      "654\n",
      "655\n",
      "656\n",
      "657\n",
      "658\n",
      "659\n",
      "660\n",
      "661\n",
      "662\n",
      "663\n",
      "664\n",
      "665\n",
      "666\n",
      "667\n",
      "668\n",
      "669\n",
      "670\n",
      "671\n",
      "672\n",
      "673\n",
      "674\n",
      "675\n",
      "676\n",
      "677\n",
      "678\n",
      "679\n",
      "680\n",
      "681\n",
      "682\n",
      "683\n",
      "684\n",
      "685\n",
      "686\n",
      "687\n",
      "688\n",
      "689\n",
      "690\n",
      "691\n",
      "692\n",
      "693\n",
      "694\n",
      "695\n",
      "696\n",
      "697\n",
      "698\n",
      "699\n",
      "700\n",
      "701\n",
      "702\n",
      "703\n",
      "704\n",
      "705\n",
      "706\n",
      "707\n",
      "708\n",
      "709\n",
      "710\n",
      "711\n",
      "712\n",
      "713\n",
      "714\n",
      "715\n",
      "716\n",
      "717\n",
      "718\n",
      "719\n",
      "720\n",
      "721\n",
      "722\n",
      "723\n",
      "724\n",
      "725\n",
      "726\n",
      "727\n",
      "728\n",
      "729\n",
      "730\n",
      "731\n",
      "732\n",
      "733\n",
      "734\n",
      "735\n",
      "736\n",
      "737\n",
      "738\n",
      "739\n",
      "740\n",
      "741\n",
      "742\n",
      "743\n",
      "744\n",
      "745\n",
      "746\n",
      "747\n",
      "748\n",
      "749\n",
      "750\n",
      "751\n",
      "752\n",
      "753\n",
      "754\n",
      "755\n",
      "756\n",
      "757\n",
      "758\n",
      "759\n",
      "760\n",
      "761\n",
      "762\n",
      "763\n",
      "764\n",
      "765\n",
      "766\n",
      "767\n",
      "768\n",
      "769\n",
      "770\n",
      "771\n",
      "772\n",
      "773\n",
      "774\n",
      "775\n",
      "776\n",
      "777\n",
      "778\n",
      "779\n",
      "780\n",
      "781\n",
      "782\n",
      "783\n",
      "784\n",
      "785\n",
      "786\n",
      "787\n",
      "788\n",
      "789\n",
      "790\n",
      "791\n",
      "792\n",
      "793\n",
      "794\n",
      "795\n",
      "796\n",
      "797\n",
      "798\n",
      "799\n",
      "800\n",
      "801\n",
      "802\n",
      "803\n",
      "804\n",
      "805\n",
      "806\n",
      "807\n",
      "808\n",
      "809\n",
      "810\n",
      "811\n",
      "812\n",
      "813\n",
      "814\n",
      "815\n",
      "816\n",
      "817\n",
      "818\n",
      "819\n",
      "820\n",
      "821\n",
      "822\n",
      "823\n",
      "824\n",
      "825\n",
      "826\n",
      "827\n",
      "828\n",
      "829\n",
      "830\n",
      "831\n",
      "832\n",
      "833\n",
      "834\n",
      "835\n",
      "836\n",
      "837\n",
      "838\n",
      "839\n",
      "840\n",
      "841\n",
      "842\n",
      "843\n",
      "844\n",
      "845\n",
      "846\n",
      "847\n",
      "848\n",
      "849\n",
      "850\n",
      "851\n",
      "852\n",
      "853\n",
      "854\n",
      "855\n",
      "856\n",
      "857\n",
      "858\n",
      "859\n",
      "860\n",
      "861\n",
      "862\n",
      "863\n",
      "864\n",
      "865\n",
      "866\n",
      "867\n",
      "868\n",
      "869\n",
      "870\n",
      "871\n",
      "872\n",
      "873\n",
      "874\n",
      "875\n",
      "876\n",
      "877\n",
      "878\n",
      "879\n",
      "880\n",
      "881\n",
      "882\n",
      "883\n",
      "884\n",
      "885\n",
      "886\n",
      "887\n",
      "888\n",
      "889\n",
      "890\n",
      "891\n",
      "892\n",
      "893\n",
      "894\n",
      "895\n",
      "896\n",
      "897\n",
      "898\n",
      "899\n",
      "900\n",
      "901\n",
      "902\n",
      "903\n",
      "904\n",
      "905\n",
      "906\n",
      "907\n",
      "908\n",
      "909\n",
      "910\n",
      "911\n",
      "912\n",
      "913\n",
      "914\n",
      "915\n",
      "916\n",
      "917\n",
      "918\n",
      "919\n",
      "920\n",
      "921\n",
      "922\n",
      "923\n",
      "924\n",
      "925\n",
      "926\n",
      "927\n",
      "928\n",
      "929\n",
      "930\n",
      "931\n",
      "932\n",
      "933\n",
      "934\n",
      "935\n",
      "936\n",
      "937\n",
      "938\n",
      "939\n",
      "940\n",
      "941\n",
      "942\n",
      "943\n",
      "944\n",
      "945\n",
      "946\n",
      "947\n",
      "948\n",
      "949\n",
      "950\n",
      "951\n",
      "952\n",
      "953\n",
      "954\n",
      "955\n",
      "956\n",
      "957\n",
      "958\n",
      "959\n",
      "960\n",
      "961\n",
      "962\n",
      "963\n",
      "964\n",
      "965\n",
      "966\n",
      "967\n",
      "968\n",
      "969\n",
      "970\n",
      "971\n",
      "972\n",
      "973\n",
      "974\n",
      "975\n",
      "976\n",
      "977\n",
      "978\n",
      "979\n",
      "980\n",
      "981\n",
      "982\n",
      "983\n",
      "984\n",
      "985\n",
      "986\n",
      "987\n",
      "988\n",
      "989\n",
      "990\n",
      "991\n",
      "992\n",
      "993\n",
      "994\n",
      "995\n",
      "996\n",
      "997\n",
      "998\n",
      "999\n"
     ]
    }
   ],
   "source": [
    "#this should demonstrate what we're talking about\n",
    "import time\n",
    "for i in range(1000):\n",
    "    print(i)\n",
    "    time.sleep(0.01)"
   ]
  },
  {
   "cell_type": "markdown",
   "metadata": {},
   "source": [
    "### Disabling Nice to Have Extensions"
   ]
  },
  {
   "cell_type": "markdown",
   "metadata": {},
   "source": [
    "Choose what you want and please move on"
   ]
  },
  {
   "cell_type": "code",
   "execution_count": null,
   "metadata": {},
   "outputs": [],
   "source": [
    "# !jupyter nbextension disable codefolding/main\n",
    "# !jupyter nbextension disable autosavetime/main\n",
    "# !jupyter nbextension disable execute_time/ExecuteTime\n",
    "# !jupyter nbextension disable hinterland/hinterland\n",
    "# !jupyter nbextension disable rubberband/main\n",
    "# !jupyter nbextension disable move_selected_cells/main\n",
    "# !jupyter nbextension disable scratchpad/main\n",
    "# !jupyter nbextension disable scroll_down/main"
   ]
  },
  {
   "cell_type": "markdown",
   "metadata": {},
   "source": [
    "## \"Useful for some\" Extensions"
   ]
  },
  {
   "cell_type": "markdown",
   "metadata": {},
   "source": [
    "This section is for extensions that are going to be useless for some people, and extremely useful for others, where others is still a pretty large group. For now I've thought of 3 groups of people who really should take a look.\n",
    "- You speak multiple languages, or have imperfect English (native speakers too!)\n",
    "  - nbTranslate - Google translate built into Jupyter Notebook\n",
    "  - Spellchecker - Highlights misspelled words in markdown cells\n",
    "- You really care about navigation shortcuts\n",
    "  - Select CodeMirror Keymap - Make your shortcuts the same as emacs, vim, sublime, and switch between them\n",
    "  - Runtools - More keyboard shortcuts, mostly for running/stopping cells\n",
    "  - Navigation Hotkeys - More keyboard shortcuts, mostly for moving around notebooks\n",
    "- You use Jupyter notebooks to teach others\n",
    "  - Exercise - Create a widget that hides solutions until the student clicks \"show solution\"\n",
    "  - Freeze - Make cells read only so your students can't mess them up"
   ]
  },
  {
   "cell_type": "code",
   "execution_count": null,
   "metadata": {},
   "outputs": [],
   "source": []
  }
 ],
 "metadata": {
  "kernelspec": {
   "display_name": "Python 3",
   "language": "python",
   "name": "python3"
  }
 },
 "nbformat": 4,
 "nbformat_minor": 4
}
