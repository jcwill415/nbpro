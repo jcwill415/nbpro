{
 "cells": [
  {
   "cell_type": "markdown",
   "metadata": {},
   "source": [
    "# Jupyter Dashboard"
   ]
  },
  {
   "cell_type": "markdown",
   "metadata": {},
   "source": [
    "The page you start out in when you open Jupyter, but before you open any notebook, is called the Dashboard. The dashboard is Jupyter's folder explorer, and from here you can do lots of important things that you can't do from inside of a notebook. \n",
    "\n",
    "![Jupyter Notebook Default Files Page](images/dashboard/dashboard.png)\n",
    "\n",
    "This section is intended primarily as a reference. I'd recommend skimming it to get familiar with a few of the features, and then coming back later when you need something specific and you're not sure where to find it. Almost every experienced user of Jupyter knows all this stuff, but they didn't learn it from a guide, they learned because eventually they needed to do each of these things and they had to figure it out. Having this guide will make that a little smoother, but it'd be wasted effort to memorize everything here, you'll learn it naturally as you use Jupyter"
   ]
  },
  {
   "cell_type": "markdown",
   "metadata": {},
   "source": [
    "### A few things to know"
   ]
  },
  {
   "cell_type": "markdown",
   "metadata": {},
   "source": [
    " There are three types of items in Jupyter: \n",
    " 1. folders \n",
    " 1. notebooks (.ipynb) \n",
    " 1. files (any file that doesnt end with .ipynb) \n",
    " \n",
    "and they each have their own icon that tells you the type.  \n",
    "![Icons in the dashboard](images/dashboard/icons.png)"
   ]
  },
  {
   "cell_type": "markdown",
   "metadata": {},
   "source": [
    "<div class=\"alert alert-block alert-info\"><strong>Tip: </strong>Opening a notebook automatically starts it, but simply closing a notebook in the browser won't shut it down, it will continue running. Either choose (kernel->shutdown) from inside the notebook or shut down from the dashboard as shown below. When you stop jupyter altogether, all notebooks will shutdown automatically, so you don't need to worry about closing them. </div>"
   ]
  },
  {
   "cell_type": "markdown",
   "metadata": {},
   "source": [
    "### Shutdown a notebook"
   ]
  },
  {
   "cell_type": "markdown",
   "metadata": {},
   "source": [
    "![Shutting down a notebook](images/dashboard/shutdown_notebook.gif)"
   ]
  },
  {
   "cell_type": "markdown",
   "metadata": {},
   "source": [
    "When you click the checkboxes on the left, a menu will appear with various options. \n",
    "\n",
    "![Menu options after selecting notebooks files and folders](images/dashboard/menu_options.gif)"
   ]
  },
  {
   "cell_type": "markdown",
   "metadata": {},
   "source": [
    "<div class=\"alert alert-block alert-warning\"><strong>Note: </strong>The menu options change based on the number/type/status of files selected. If at some point you can't find an option that's usually there, try selecting only one item at a time, or making sure if the item is a notebook, that it isn't currently running</div>"
   ]
  },
  {
   "cell_type": "markdown",
   "metadata": {},
   "source": [
    "### Navigating parent folders (needs better name)"
   ]
  },
  {
   "cell_type": "markdown",
   "metadata": {},
   "source": [
    "The current directory is shown in the gray bar above the list of files/folders. To open a parent folder, click on that folder. To open the root directory, click the blue folder icon\n",
    "\n",
    "![Navigating folders](images/dashboard/click_to_navigate.gif)"
   ]
  },
  {
   "cell_type": "markdown",
   "metadata": {},
   "source": [
    "### Create a new notebook"
   ]
  },
  {
   "cell_type": "markdown",
   "metadata": {},
   "source": [
    "![Create a new notebook](images/dashboard/new_notebook_from_dash.gif)"
   ]
  },
  {
   "cell_type": "markdown",
   "metadata": {},
   "source": [
    "### Create a new folder"
   ]
  },
  {
   "cell_type": "markdown",
   "metadata": {},
   "source": [
    "![Create a new folder](images/dashboard/new_folder.gif)"
   ]
  },
  {
   "cell_type": "markdown",
   "metadata": {},
   "source": [
    "### Delete a notebook"
   ]
  },
  {
   "cell_type": "markdown",
   "metadata": {},
   "source": [
    "You can delete files, notebooks, and empty folders by selecting them and clicking the trash icon. To delete full folders, you'll need the command line."
   ]
  },
  {
   "cell_type": "markdown",
   "metadata": {},
   "source": [
    "![Deleting a notebook](images/dashboard/delete_notebook.gif)"
   ]
  },
  {
   "cell_type": "markdown",
   "metadata": {},
   "source": [
    "### Duplicate a notebook"
   ]
  },
  {
   "cell_type": "markdown",
   "metadata": {},
   "source": [
    "Sometimes it can be really useful to duplicate and then rename a notebook so you don't have to start from scratch, or so you can keep "
   ]
  },
  {
   "cell_type": "markdown",
   "metadata": {},
   "source": [
    "![Duplicating a notebook](images/dashboard/duplicate.gif)"
   ]
  },
  {
   "cell_type": "markdown",
   "metadata": {},
   "source": [
    "### Sorting notebooks by name, date, size"
   ]
  },
  {
   "cell_type": "markdown",
   "metadata": {},
   "source": [
    "![Buttons for sorting your notebook](images/dashboard/sort_buttons.png)"
   ]
  },
  {
   "cell_type": "markdown",
   "metadata": {},
   "source": [
    "### Opening a new terminal window"
   ]
  },
  {
   "cell_type": "markdown",
   "metadata": {},
   "source": [
    "![How to open a terminal](images/dashboard/terminal.gif)"
   ]
  },
  {
   "cell_type": "markdown",
   "metadata": {},
   "source": [
    "### Downloading a notebook or file (remote only)"
   ]
  },
  {
   "cell_type": "markdown",
   "metadata": {},
   "source": [
    "If you're using Jupyter on your own device, you won't need this, but if you're using it on a remote server and aren't comfortable with sending files via command line, this will be helpful. Note that you can't download folders this way (only via command line)\n",
    "\n",
    "![Shutting down a notebook](images/dashboard/shutdown_and_download.gif)"
   ]
  },
  {
   "cell_type": "markdown",
   "metadata": {},
   "source": [
    "### Uploading images/datasets/files...etc (remote only)"
   ]
  },
  {
   "cell_type": "markdown",
   "metadata": {},
   "source": [
    "![The upload button](images/dashboard/upload.png)"
   ]
  }
 ],
 "metadata": {
  "kernelspec": {
   "display_name": "Python 3",
   "language": "python",
   "name": "python3"
  }
 },
 "nbformat": 4,
 "nbformat_minor": 4
}
