{
 "cells": [
  {
   "cell_type": "markdown",
   "metadata": {},
   "source": [
    "# Getting Started"
   ]
  },
  {
   "cell_type": "markdown",
   "metadata": {},
   "source": [
    "## Installation"
   ]
  },
  {
   "cell_type": "markdown",
   "metadata": {},
   "source": [
    "### Easiest way to install"
   ]
  },
  {
   "cell_type": "markdown",
   "metadata": {},
   "source": [
    "For the longest time, I avoided installing Jupyter extensions, thinking that the process would be long and hard. I got this idea from googling \"Jupyter Extensions\" and getting hit with a wall of docs on [this page](https://jupyter-contrib-nbextensions.readthedocs.io/en/latest/) and [this one](https://jupyter-contrib-nbextensions.readthedocs.io/en/latest/install.html). \n",
    "\n",
    "Sometime later, I stumbled upon this [fastai forum post](https://forums.fast.ai/t/useful-jupyter-notebook-tips-plugins-collapsible-sections/17919) from [Mark Rostock](https://forums.fast.ai/u/marcmuc/) and realized it's extremely easy. The following 3 lines will \n",
    "- install nbextensions\n",
    "- add the necessary javascript and css files\n",
    "- give you an AWESOME interface called nbconfigurator for discovering new extensions and turning them on and off. "
   ]
  },
  {
   "cell_type": "markdown",
   "metadata": {},
   "source": [
    "<strong>Uncomment and run to install extensions</strong>"
   ]
  },
  {
   "cell_type": "code",
   "execution_count": null,
   "metadata": {},
   "outputs": [
    {
     "name": "stderr",
     "output_type": "stream",
     "text": [
      "Enabling: jupyter_nbextensions_configurator\n",
      "- Writing config: C:\\Users\\Rob\\.jupyter\n",
      "    - Validating...\n",
      "      jupyter_nbextensions_configurator 0.4.1 ok\n",
      "Enabling notebook nbextension nbextensions_configurator/config_menu/main...\n",
      "Enabling tree nbextension nbextensions_configurator/tree_tab/main...\n"
     ]
    }
   ],
   "source": [
    "#! pip install jupyter_contrib_nbextensions\n",
    "#! jupyter contrib nbextension install --user\n",
    "#! jupyter nbextensions_configurator enable --user"
   ]
  },
  {
   "cell_type": "markdown",
   "metadata": {},
   "source": [
    "### New NBConfigurator Tab"
   ]
  },
  {
   "cell_type": "markdown",
   "metadata": {},
   "source": [
    "Once you've done this, go back to the jupyter directory window and you'll see a new tab for Nbextensions\n",
    "![New NBExtensions tab!](images/nbextensions.png)"
   ]
  },
  {
   "cell_type": "markdown",
   "metadata": {},
   "source": [
    "Initially this page won't look very fun. "
   ]
  },
  {
   "cell_type": "markdown",
   "metadata": {},
   "source": [
    "![Disabled Extensions](images/extensions_disabled.png)"
   ]
  },
  {
   "cell_type": "markdown",
   "metadata": {},
   "source": [
    "That's because the default is to not allow configuration of extensions that don't have explicit compatibility with your environment. Why are they all incompatible? According to [this StackOverflow post](https://stackoverflow.com/questions/58146683/all-jupyter-contrib-nbextensions-are-marked-as-possibly-incompatible), it may be that the extensions haven't been tested against the current latest version of jupyter, and it will probably be fine. If you trust that post's 6 upvotes, and the experience of me and a few friends, than uncheck that box and let's get moving."
   ]
  },
  {
   "cell_type": "markdown",
   "metadata": {},
   "source": [
    "![List of extensions](images/extensions_list.png)"
   ]
  },
  {
   "cell_type": "markdown",
   "metadata": {},
   "source": [
    "To enable/disable a given extension, click the checkbox next to its name. To see an extensions documentation and configuration options, click the extension name and scroll down. "
   ]
  },
  {
   "cell_type": "markdown",
   "metadata": {},
   "source": [
    "## Choosing the Right Extensions"
   ]
  },
  {
   "cell_type": "markdown",
   "metadata": {},
   "source": [
    "Note that there are 68 possible extensions, and that while nbconfigurator makes it much easier to enable, disable and configure them, it's still a lot of work to figure out the few that are worth using. I tried all 68 for you and did my best to group them as \n",
    "- <strong>Essential</strong> - Extensions that I now can't imagine developing without\n",
    "- <strong>Nice to Have</strong> - Things that make life a little bit easier\n",
    "- <strong>Useful for Some</strong> - Extremely useful for some people, not very useful for others (e.g. language translation)\n",
    "\n",
    "That being said, definitely skim them and see if there are any that jump out at you. While most of them are too niche for this series, they all have a use and that one thing might be exactly what you're looking for."
   ]
  },
  {
   "cell_type": "markdown",
   "metadata": {},
   "source": [
    "Now to the fun part, the essential extensions that will make Juptyer so much easier to work with..."
   ]
  }
 ],
 "metadata": {
  "kernelspec": {
   "display_name": "Python 3",
   "language": "python",
   "name": "python3"
  }
 },
 "nbformat": 4,
 "nbformat_minor": 4
}
