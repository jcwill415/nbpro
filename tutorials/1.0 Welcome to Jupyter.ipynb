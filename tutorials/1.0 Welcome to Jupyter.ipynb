{
 "cells": [
  {
   "cell_type": "markdown",
   "metadata": {},
   "source": [
    "# Welcome to Jupyter Notebook"
   ]
  },
  {
   "cell_type": "markdown",
   "metadata": {},
   "source": [
    "## What is Jupyter Notebook\n",
    "\n",
    "Jupyter Notebook is an extremely flexible tool where you can run Python code piece by piece. You can also mix in text, images, links, equations, and much more, making it a great tool for teaching, learning, sharing and collaborating.\n",
    "\n",
    "The files used in Jupyter are called “notebooks” and are meant to be like an interactive lab journal for programmers, researchers, and data scientists of all backgrounds and skill levels. Jupyter is different from any other application, so it will take a little getting used to, but with a few days playing around, and the tips in this book, you'll master it quickly. "
   ]
  },
  {
   "cell_type": "markdown",
   "metadata": {},
   "source": [
    "## Your first experiment"
   ]
  },
  {
   "cell_type": "markdown",
   "metadata": {},
   "source": [
    "Click different areas and you'll see a blue or green border around \"cells\". Cells are bits of code or text that can be run one at a time.\n",
    "\n",
    "**To automatically run a cell, click on it and hit shift+enter, try this on the two cells below.**"
   ]
  },
  {
   "cell_type": "code",
   "execution_count": null,
   "metadata": {},
   "outputs": [
    {
     "data": {
      "text/plain": [
       "4"
      ]
     },
     "execution_count": null,
     "metadata": {},
     "output_type": "execute_result"
    }
   ],
   "source": [
    "2+2"
   ]
  },
  {
   "cell_type": "code",
   "execution_count": null,
   "metadata": {},
   "outputs": [
    {
     "name": "stdout",
     "output_type": "stream",
     "text": [
      "hello jupyter\n"
     ]
    }
   ],
   "source": [
    "print(\"hello jupyter\")"
   ]
  },
  {
   "cell_type": "markdown",
   "metadata": {},
   "source": [
    "When you click on a cell, it will be in one of two modes. \n",
    "\n",
    "- <span style=\"color:blue\"><strong>Command Mode</strong></span> (blue border) - Allows you to change *the whole cell or neighboring cells*\n",
    "- <span style=\"color:green\"><strong>Edit Mode</strong></span>    (green border) - Allows you to edit things *inside* the cell\n",
    "\n",
    "You can switch between these modes easily...\n",
    "* To go from **Command Mode** to **Edit Mode**, hit **Enter** or double click inside the text area (light gray) of the cell  \n",
    "* To go from **Edit Mode** to **Command Mode**, hit **Esc** or click outside the text area of the cell (white)\n",
    "\n",
    "To move between cells, use the arrow keys. You can do this in edit or command mode but command mode will be faster so hit **esc** first"
   ]
  },
  {
   "cell_type": "markdown",
   "metadata": {},
   "source": [
    "<div class=\"alert alert-block alert-warning\">When you click inside the cells of formatted text above, they'll convert to the raw Markdown and HTML(explained in the next section) used to format them, if that happens and you want to go back to the pretty version, just select the cell and hit shift+enter</div>"
   ]
  },
  {
   "cell_type": "markdown",
   "metadata": {},
   "source": [
    "<div class=\"alert alert-block alert-info\"><strong>Note:</strong> Jupyter is meant to be interactive so make sure you're comfortable running cells (shift-enter) and switching between Command Mode and Edit Mode before continuing</div>"
   ]
  },
  {
   "cell_type": "markdown",
   "metadata": {},
   "source": [
    "## Different Types of Cells"
   ]
  },
  {
   "cell_type": "markdown",
   "metadata": {},
   "source": [
    "There are only two types of cells you'll use frequently in Jupyter\n",
    "- <strong>Code Cells</strong> - Cells for executing code\n",
    "- <strong>Markdown Cells</strong> - Cells for displaying text, images, links...etc\n",
    "\n",
    "The easiest way to tell them apart is code cells have this icon: `In [ ]:` to their left, and markdown cells don't.  \n",
    "![How to distinguish markdown and code cells](images/markdown_cell1.png)  \n",
    "Another visual clue from the above image is code cells are automatically formatted. Notice the green words in the code cell.  \n",
    "\n",
    "When we press shift-enter to run a code cell that contains markdown, if it isn't valid python code, we will get an error.  \n",
    "![Running markdown in a code cell](images/markdown_cell2.png)  \n",
    "\n",
    "And if we run code in a markdown cell, it will treat it like plain text\n",
    "\n",
    "![Running code in a markdown cell](images/markdown_cell3.gif)  \n"
   ]
  }
 ],
 "metadata": {
  "kernelspec": {
   "display_name": "Python 3",
   "language": "python",
   "name": "python3"
  }
 },
 "nbformat": 4,
 "nbformat_minor": 4
}
