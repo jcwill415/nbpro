{
 "cells": [
  {
   "cell_type": "markdown",
   "metadata": {},
   "source": [
    "## \"Useful for some\" Extensions"
   ]
  },
  {
   "cell_type": "markdown",
   "metadata": {},
   "source": [
    "This section is for extensions that are going to be useless for some people, and extremely useful for others, where others is still a pretty large group. For now I've thought of 3 groups of people who really should take a look.\n",
    "- You speak multiple languages, or have imperfect English (native speakers too!)\n",
    "  - nbTranslate - Google translate built into Jupyter Notebook\n",
    "  - Spellchecker - Highlights misspelled words in markdown cells\n",
    "- You really care about navigation shortcuts\n",
    "  - Select CodeMirror Keymap - Make your shortcuts the same as emacs, vim, sublime, and switch between them\n",
    "  - Runtools - More keyboard shortcuts, mostly for running/stopping cells\n",
    "  - Navigation Hotkeys - More keyboard shortcuts, mostly for moving around notebooks\n",
    "- You use Jupyter notebooks to teach others\n",
    "  - Exercise - Create a widget that hides solutions until the student clicks \"show solution\"\n",
    "  - Freeze - Make cells read only so your students can't mess them up"
   ]
  },
  {
   "cell_type": "code",
   "execution_count": null,
   "metadata": {},
   "outputs": [],
   "source": [
    "def hello():\n",
    "    print(\"hello\")\n",
    "    "
   ]
  },
  {
   "cell_type": "code",
   "execution_count": null,
   "metadata": {},
   "outputs": [
    {
     "name": "stdout",
     "output_type": "stream",
     "text": [
      "Warning:hello is <function hello at 0x00000243DD3AA950>\n",
      "Proper storage of interactively declared classes (or instances\n",
      "of those classes) is not possible! Only instances\n",
      "of classes in real modules on file system can be %store'd.\n",
      "\n"
     ]
    }
   ],
   "source": [
    "%store hello"
   ]
  },
  {
   "cell_type": "code",
   "execution_count": null,
   "metadata": {},
   "outputs": [],
   "source": [
    "m = 22"
   ]
  },
  {
   "cell_type": "code",
   "execution_count": null,
   "metadata": {},
   "outputs": [
    {
     "name": "stdout",
     "output_type": "stream",
     "text": [
      "Stored 'm' (int)\n"
     ]
    }
   ],
   "source": [
    "%store m"
   ]
  },
  {
   "cell_type": "code",
   "execution_count": null,
   "metadata": {},
   "outputs": [],
   "source": []
  }
 ],
 "metadata": {
  "kernelspec": {
   "display_name": "Python 3",
   "language": "python",
   "name": "python3"
  }
 },
 "nbformat": 4,
 "nbformat_minor": 4
}
