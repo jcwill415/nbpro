{
 "cells": [
  {
   "cell_type": "markdown",
   "metadata": {},
   "source": [
    "# Nice Magics"
   ]
  },
  {
   "cell_type": "markdown",
   "metadata": {},
   "source": [
    "This section is dedicated to magics you technically could live without, but that you're better off having. Let's jump right in."
   ]
  },
  {
   "cell_type": "markdown",
   "metadata": {},
   "source": [
    "### `%pastebin` for sharing code"
   ]
  },
  {
   "cell_type": "markdown",
   "metadata": {},
   "source": [
    "This is a really lovely feature for quickly sharing code cleanly/easily. Without `%pastebin`, you basically have two options, a screenshot (preserves prettiness, can't be copy/pasted) or copy/pasting code in a chat window (loses prettiness, can be copy/pasted). With `%pastebin` we get the best of both.\n",
    "\n",
    "To use, just type `%pastebin n` where n is the cell you want to share. Say I wished to share my SignalShifting code in a way that could be read, and then copied if necessary  \n",
    "![Signal shifting code example](images/pastebin_magic3.png)"
   ]
  },
  {
   "cell_type": "markdown",
   "metadata": {},
   "source": [
    "Here `%pastebin 17` is copying the code from cell 17, and loading it to a website where it will last for 7 days, all I need to do is copy and paste that link in whatever chat client I want, and my friend will see this.\n",
    "![Signal shifting code on pastebin](images/pastebin_magic2.png)"
   ]
  },
  {
   "cell_type": "markdown",
   "metadata": {},
   "source": [
    "### `%env` to view/set environment variables"
   ]
  },
  {
   "cell_type": "markdown",
   "metadata": {},
   "source": [
    "Nobody likes dealing with environment variables, but every once in a while it's necessary. The documentation on this magic is very well-written and concise.  \n",
    "![Environment magic documentation](images/env_magic.png)  \n",
    "Note that any changes you make will only persist for the current session, for how to setup permanent environment variables in Jupyter, see [this StackOverflow post](https://stackoverflow.com/a/53595397/5042053)"
   ]
  },
  {
   "cell_type": "markdown",
   "metadata": {},
   "source": [
    "I've set up a series of commands to demonstrate how to use all of the above features"
   ]
  },
  {
   "cell_type": "code",
   "execution_count": null,
   "metadata": {},
   "outputs": [],
   "source": [
    "# list all environment variables/values\n",
    "%env?"
   ]
  },
  {
   "cell_type": "code",
   "execution_count": null,
   "metadata": {},
   "outputs": [],
   "source": [
    "# try to look up a non-existent variable\n",
    "%env newval"
   ]
  },
  {
   "cell_type": "code",
   "execution_count": null,
   "metadata": {},
   "outputs": [],
   "source": [
    "# create and initialize a non-existent variable\n",
    "%env newval = 42"
   ]
  },
  {
   "cell_type": "code",
   "execution_count": null,
   "metadata": {},
   "outputs": [],
   "source": [
    "# now we can look it up\n",
    "%env newval"
   ]
  },
  {
   "cell_type": "code",
   "execution_count": null,
   "metadata": {},
   "outputs": [],
   "source": [
    "# let's try to set it to be equal to a python variable `x`\n",
    "x = 7\n",
    "%env newval=x"
   ]
  },
  {
   "cell_type": "code",
   "execution_count": null,
   "metadata": {},
   "outputs": [],
   "source": [
    "# Oops, looks like it literally set it to the string x\n",
    "%env newval"
   ]
  },
  {
   "cell_type": "code",
   "execution_count": null,
   "metadata": {},
   "outputs": [],
   "source": [
    "# We need to use a dollar sign to trigger interpolation\n",
    "%env newval=$x"
   ]
  },
  {
   "cell_type": "code",
   "execution_count": null,
   "metadata": {},
   "outputs": [],
   "source": [
    "#Looks like that worked!\n",
    "%env newval"
   ]
  },
  {
   "cell_type": "code",
   "execution_count": null,
   "metadata": {},
   "outputs": [],
   "source": []
  },
  {
   "cell_type": "markdown",
   "metadata": {},
   "source": [
    "### `%store` to pass values between notebooks"
   ]
  },
  {
   "cell_type": "markdown",
   "metadata": {},
   "source": [
    "If you are developing a library using Jupyter Notebooks, you should be using [nbdev by fastai](https://nbdev.fast.ai/), but most of the time, I'm just hacking something together. I know better than to do it all in one giant notebook, but the problem then becomes, I have an output from one notebook, say a notebook for preprocessing, that I want to use as an input in another notebook. Sure, I could manually export it, or pickle it, but with `%store` there's a better way.  \n",
    "\n",
    "All you do is call `%store varname` for the variable you want to export, and then `%store -r varname` to bring it to life in another notebook. To use `%store` effectively, finish each notebook by storing the data and values you would like to make available to future notebooks. \n",
    "\n",
    "I'll demonstrate below, but instead of making you open another notebook, we'll just delete the variable, demonstrate it's gone, and then bring it back to life. I encourage you to try it yourself across different notebooks."
   ]
  },
  {
   "cell_type": "code",
   "execution_count": null,
   "metadata": {},
   "outputs": [],
   "source": [
    "# make a dict {1:'a', 2:'b'...26:'z'} as a fake dataset \n",
    "def make_dataset():\n",
    "    alpha = 'abcdefghijklmnopqrstuvwxyz'\n",
    "    return {i+1:alpha[i] for i in range(26)}"
   ]
  },
  {
   "cell_type": "code",
   "execution_count": null,
   "metadata": {},
   "outputs": [],
   "source": [
    "important_data = make_dataset()"
   ]
  },
  {
   "cell_type": "code",
   "execution_count": null,
   "metadata": {},
   "outputs": [],
   "source": [
    "%store important_data"
   ]
  },
  {
   "cell_type": "code",
   "execution_count": null,
   "metadata": {},
   "outputs": [],
   "source": [
    "del important_data"
   ]
  },
  {
   "cell_type": "code",
   "execution_count": null,
   "metadata": {},
   "outputs": [],
   "source": [
    "important_data[13]"
   ]
  },
  {
   "cell_type": "code",
   "execution_count": null,
   "metadata": {},
   "outputs": [],
   "source": [
    "%store -r important_data"
   ]
  },
  {
   "cell_type": "code",
   "execution_count": null,
   "metadata": {},
   "outputs": [],
   "source": [
    "important_data[13]"
   ]
  },
  {
   "cell_type": "markdown",
   "metadata": {},
   "source": [
    "#### How it works"
   ]
  },
  {
   "cell_type": "markdown",
   "metadata": {},
   "source": [
    "Behind the scenes, `%store` is using pickle (a built in library for storing Python objects on disk) to save and load objects. That means you can use `%store` for any pickleable objects.  \n",
    "\n",
    "Here's the minimum you need to know about pickle:\n",
    "![What can be pickled and unpickled](images/pickle1.png)\n",
    "[Source 1](https://docs.python.org/2/library/pickle.html#what-can-be-pickled-and-unpickled)\n",
    "[Source 2](https://docs.python.org/3.8/library/pickle.html)"
   ]
  },
  {
   "cell_type": "markdown",
   "metadata": {},
   "source": [
    "#### Sharing functions across notebooks"
   ]
  },
  {
   "cell_type": "markdown",
   "metadata": {},
   "source": [
    "Unfortunately pickling notebook functions isn't as easy. There are a number of libraries to help do this like `nbimporter` but even the creator of that library [Gregor Sturm](https://github.com/grst) now [recommends against it's usage.](https://github.com/grst/nbimporter#update-2019-06-i-do-not-recommend-any-more-to-use-nbimporter) \n",
    "\n",
    "His solution, and one I use as well, is to make a `utils.py` file and refactor any functions used in multiple notebooks to be defined there. This is a solution that I only recommend for small projects like a kaggle competition, or a new idea you're experimenting with. If you have so many functions that copying them to a single file seems like a bad solution, use [nbdev by fastai](https://nbdev.fast.ai/)"
   ]
  },
  {
   "cell_type": "markdown",
   "metadata": {},
   "source": [
    "#### Autoload everything you store NOTE NEEDS WORK"
   ]
  },
  {
   "cell_type": "markdown",
   "metadata": {},
   "source": [
    "Note that this tip has potential for misuse. Dumping everything you've ever stored into the state each notebook you create seems like a bad idea in general, but may be appropriate for a few unique situations. \n",
    "`%config StoreMagics.autorestore=True`\n",
    "\n",
    "Note: this setting doesnt persist, we need to adjust it in the config once I figure that part out. "
   ]
  },
  {
   "cell_type": "code",
   "execution_count": null,
   "metadata": {},
   "outputs": [],
   "source": [
    "%config StoreMagics.autorestore=True"
   ]
  },
  {
   "cell_type": "markdown",
   "metadata": {},
   "source": [
    "### `%hist` for seeing execution history"
   ]
  },
  {
   "cell_type": "markdown",
   "metadata": {},
   "source": []
  },
  {
   "cell_type": "markdown",
   "metadata": {},
   "source": [
    "`%hist` is an alias for `%history` that will show you all commands that have been executed since the kernel last restarted. It is properly indented and without line numbers as to be reproducible by copy/pasting to a file. \n",
    "\n",
    "Optional Arguments:\n",
    "- A range of numbers e.g. `2-5` to see the 2nd to 5th most recent commands\n",
    "- `-n` to see line numbers \n",
    "- `-o` to include outputs \n",
    "- `-t` to translate everything to valid python source code (e.g. `%hist` will appear as `get_ipython().run_line_magic('hist', '')` "
   ]
  },
  {
   "cell_type": "markdown",
   "metadata": {},
   "source": [
    "The last option is extremely cool as it allows us to demystify all the stuff Jupyter is doing for us under the hood. Let's take a look at how and how `?` and `??` actually work"
   ]
  },
  {
   "cell_type": "code",
   "execution_count": null,
   "metadata": {},
   "outputs": [],
   "source": [
    "%hist?"
   ]
  },
  {
   "cell_type": "code",
   "execution_count": null,
   "metadata": {},
   "outputs": [],
   "source": [
    "%hist??"
   ]
  },
  {
   "cell_type": "code",
   "execution_count": null,
   "metadata": {},
   "outputs": [
    {
     "name": "stdout",
     "output_type": "stream",
     "text": [
      "get_ipython().run_line_magic('pinfo', '%hist')\n",
      "get_ipython().run_line_magic('pinfo2', '%hist')\n"
     ]
    }
   ],
   "source": [
    "%hist -t 1-2"
   ]
  },
  {
   "cell_type": "markdown",
   "metadata": {},
   "source": [
    "This shows us that `?` and `??` are actually just convenient shortcuts to the magics `%pinfo` and `%pinfo2`, which we don't ever need to use because `?` and `??` are so much better!"
   ]
  },
  {
   "cell_type": "markdown",
   "metadata": {},
   "source": [
    "### `%%javascript` and other language changing script magics"
   ]
  },
  {
   "cell_type": "markdown",
   "metadata": {},
   "source": [
    "The focus of this book is using Jupyter for Python, but occasionally it is nice to have the ability to run code in other languages. For instance in Jupyter, much of the underlying functionality is written in Javascript, and being able to run javascript from the console allows us to do things like play around with settings or shortcuts to see if they work before we go add them to custom.js to make the change permanent.\n",
    "\n",
    "I first learned about this from [Stas Bekman](https://forums.fast.ai/u/stas) in the excellent [Jupyter Notebook Tips and Tricks Thread](https://forums.fast.ai/t/jupyter-notebook-enhancements-tips-and-tricks/17064/2) on fastai forums. \n",
    "\n",
    "Below is a short example of some javascript that will manipulate Jupyter by executing the next cell, waiting 3 seconds, and inserting another cell below\n"
   ]
  },
  {
   "cell_type": "code",
   "execution_count": null,
   "metadata": {},
   "outputs": [
    {
     "data": {
      "application/javascript": [
       "Jupyter.notebook.execute_cell()\n",
       "setTimeout(function(){\n",
       "    Jupyter.notebook.insert_cell_below()\n",
       "}, 3000)\n"
      ],
      "text/plain": [
       "<IPython.core.display.Javascript object>"
      ]
     },
     "metadata": {},
     "output_type": "display_data"
    }
   ],
   "source": [
    "%%javascript\n",
    "Jupyter.notebook.execute_cell()\n",
    "setTimeout(function(){\n",
    "    Jupyter.notebook.insert_cell_below()\n",
    "}, 3000)"
   ]
  },
  {
   "cell_type": "code",
   "execution_count": null,
   "metadata": {},
   "outputs": [
    {
     "name": "stdout",
     "output_type": "stream",
     "text": [
      "Executed\n"
     ]
    }
   ],
   "source": [
    "print(\"Executed\")"
   ]
  },
  {
   "cell_type": "markdown",
   "metadata": {},
   "source": [
    "`%%javascript` is one of many language changing options. Others are\n",
    "- `%%perl`\n",
    "- `%%ruby`\n",
    "- `%%js` (shortcut for javascript)\n",
    "- `%%python` to run in the default python interpreter, or `%%python2`/`%%python3` for specific versions.\n",
    "- `%%bash` - to run a cell in bash as a subprocess.\\*\n",
    "\n",
    "\\* I'm not actually sure of the functional difference between `%%bash` and `!`, if you do, message me and I'll credit you here."
   ]
  },
  {
   "cell_type": "markdown",
   "metadata": {},
   "source": [
    "Using `?` with all of these gives no new info, because they rely on the `%%script` magic to run, so if you're having trouble getting one of these language magics to work, that's the best place to look for documentation. Finally, if you look at the list of cell magics using `%lsmagic`, you'll notice there are a number of other examples I left out here, including `%%latex`, `%%markdown`, and `%%html`, that's because Jupyter now will automatically recognize and render all 3 of those, and the magics are no longer needed."
   ]
  },
  {
   "cell_type": "markdown",
   "metadata": {},
   "source": [
    "### `%more` for quickly viewing files in the pager REPLACE WITH NON .PY FILE"
   ]
  },
  {
   "cell_type": "markdown",
   "metadata": {},
   "source": [
    "Do you have a file you want to quickly examine without having to go back to the Jupyter navigation page and open it in a new tab? Use `%more filename`   "
   ]
  },
  {
   "cell_type": "code",
   "execution_count": null,
   "metadata": {},
   "outputs": [],
   "source": [
    "%more error.py"
   ]
  },
  {
   "cell_type": "markdown",
   "metadata": {},
   "source": [
    "### `%tb` to see your last error/stack-trace"
   ]
  },
  {
   "cell_type": "markdown",
   "metadata": {},
   "source": [
    "tb is short for traceback. Sometimes you delete cells, or maybe you're in another part of the notebook and you want to see that error again. Bring it back to life with `%tb`"
   ]
  },
  {
   "cell_type": "code",
   "execution_count": null,
   "metadata": {},
   "outputs": [
    {
     "name": "stderr",
     "output_type": "stream",
     "text": [
      "UsageError: %%latex is a cell magic, but the cell body is empty.\n"
     ]
    }
   ],
   "source": [
    "%tb"
   ]
  },
  {
   "cell_type": "code",
   "execution_count": null,
   "metadata": {},
   "outputs": [],
   "source": [
    "### "
   ]
  },
  {
   "cell_type": "markdown",
   "metadata": {},
   "source": [
    "### `%whos` to see details about local variables "
   ]
  },
  {
   "cell_type": "markdown",
   "metadata": {},
   "source": [
    "<div class=\"alert alert-block alert-warning\"><strong>Note:</strong> If you often import libraries with <code>from foo import *</code>, this won't be useful as the namespace will be too cluttered by those imports, which will be included when using `%whos`</div>"
   ]
  },
  {
   "cell_type": "markdown",
   "metadata": {},
   "source": [
    "`%whos` will print a nice little table to show you what variables are populating the current notebook's namespace. \n",
    "![Whos magic](images/whos_magic.png)\n",
    "\n",
    "You can also pass in a type (e.g. list) as a filter, and it will only show you variables of that type.\n",
    "\n",
    "There are two alternatives `%who`, which just prints the variable names, and `%who_ls` which gives you back a list of the variable names. I prefer `%whos` for the extra info it provides but I'd recommend trying all three to see what suites you best. "
   ]
  },
  {
   "cell_type": "code",
   "execution_count": null,
   "metadata": {},
   "outputs": [
    {
     "name": "stdout",
     "output_type": "stream",
     "text": [
      "No variables match your requested type.\n"
     ]
    }
   ],
   "source": [
    "%who"
   ]
  },
  {
   "cell_type": "code",
   "execution_count": null,
   "metadata": {},
   "outputs": [
    {
     "name": "stdout",
     "output_type": "stream",
     "text": [
      "NamespaceMagics\t get_ipython\t getsizeof\t json\t np\t var_dic_list\t \n"
     ]
    }
   ],
   "source": [
    "%who"
   ]
  },
  {
   "cell_type": "code",
   "execution_count": null,
   "metadata": {},
   "outputs": [
    {
     "data": {
      "text/plain": [
       "['NamespaceMagics', 'get_ipython', 'getsizeof', 'json', 'np', 'var_dic_list']"
      ]
     },
     "execution_count": null,
     "metadata": {},
     "output_type": "execute_result"
    }
   ],
   "source": [
    "%who_ls"
   ]
  },
  {
   "cell_type": "markdown",
   "metadata": {},
   "source": [
    "#### Non-magic alternatives: Variable Explorer Extension"
   ]
  },
  {
   "cell_type": "markdown",
   "metadata": {},
   "source": [
    "If you prefer a GUI, you can use the Variable Explorer Extension discussed in Chapter 2. While it won't be very useful if you use `from foo import *` it is a cool alternative to using `%whos`"
   ]
  },
  {
   "cell_type": "markdown",
   "metadata": {},
   "source": [
    "#### Non-magic alternatives: `locals()` and `dir()`"
   ]
  },
  {
   "cell_type": "markdown",
   "metadata": {},
   "source": [
    "Python offers us `locals()` and `dir()` but these will show variables Jupyter is using internally to track stuff like command history. Use that if you're interested in exploring, but if you just want to see what you've personally set, use `%whos`"
   ]
  },
  {
   "cell_type": "code",
   "execution_count": null,
   "metadata": {},
   "outputs": [
    {
     "data": {
      "text/plain": [
       "46"
      ]
     },
     "execution_count": null,
     "metadata": {},
     "output_type": "execute_result"
    }
   ],
   "source": [
    "len(locals())"
   ]
  },
  {
   "cell_type": "code",
   "execution_count": null,
   "metadata": {},
   "outputs": [
    {
     "data": {
      "text/plain": [
       "48"
      ]
     },
     "execution_count": null,
     "metadata": {},
     "output_type": "execute_result"
    }
   ],
   "source": [
    "len(dir())"
   ]
  },
  {
   "cell_type": "code",
   "execution_count": null,
   "metadata": {},
   "outputs": [
    {
     "data": {
      "text/plain": [
       "7"
      ]
     },
     "execution_count": null,
     "metadata": {},
     "output_type": "execute_result"
    }
   ],
   "source": [
    "x = %who_ls\n",
    "len(x)"
   ]
  },
  {
   "cell_type": "code",
   "execution_count": null,
   "metadata": {},
   "outputs": [],
   "source": []
  }
 ],
 "metadata": {
  "kernelspec": {
   "display_name": "Python 3",
   "language": "python",
   "name": "python3"
  }
 },
 "nbformat": 4,
 "nbformat_minor": 4
}
