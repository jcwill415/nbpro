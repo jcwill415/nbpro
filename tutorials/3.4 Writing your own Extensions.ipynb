{
 "cells": [
  {
   "cell_type": "markdown",
   "metadata": {},
   "source": [
    "# Writing Your Own Extensions"
   ]
  },
  {
   "cell_type": "markdown",
   "metadata": {},
   "source": [
    "Writing your own extensions is easier than you'd expect, given some knowledge of javascript. I'll start with a very brief overview, and then go deeper in subsequent sections."
   ]
  },
  {
   "cell_type": "markdown",
   "metadata": {},
   "source": [
    "## Basic structure of an extension"
   ]
  },
  {
   "cell_type": "markdown",
   "metadata": {},
   "source": [
    "The docs for writing your own extensions are lacking, but data scientist [Will Koehrsen](https://towardsdatascience.com/@williamkoehrsen) wrote a [great intro to extensions](https://towardsdatascience.com/how-to-write-a-jupyter-notebook-extension-a63f9578a38c) which was very helpful to me in teaching myself to write extensions. In this post I will borrow heavily from it, as well as try to build on it, so thank you Will. "
   ]
  },
  {
   "cell_type": "markdown",
   "metadata": {},
   "source": [
    "Every extension has 3 parts:  \n",
    "1. main.js - The javascript code. This is where you write the functionality.\n",
    "2. description.yaml - A config file for the extension\n",
    "3. README.md - A readme file (displayed in the nbconfigurator tab for your users)\n",
    "4. CSS Files (optional) - You can link CSS files from your main.js, we'll cover this later"
   ]
  },
  {
   "cell_type": "markdown",
   "metadata": {},
   "source": [
    "These three files need to be together in a single directory. \n",
    "\n",
    "To install the extension use \n",
    "`jupyter nbextension install path/to/directory --user`\n",
    "\n",
    "All this command does is copy that directory to jupyter's data directory where nbextensions are stored. You can see your data directory by running `jupyter --data-dir` on the command line. The nbextensions configurator reads from that folder so you can now enable/disable your extension from there."
   ]
  },
  {
   "cell_type": "markdown",
   "metadata": {},
   "source": [
    "## Editing Existing Extensions"
   ]
  },
  {
   "cell_type": "markdown",
   "metadata": {},
   "source": [
    "I would not advise writing extensions from scratch, but instead using "
   ]
  },
  {
   "cell_type": "markdown",
   "metadata": {},
   "source": [
    "So far every extension we've seen comes from a single collection called \"jupyter_contrib_nbextensions\" [Github Link](https://github.com/ipython-contrib/jupyter_contrib_nbextensions/tree/master/src/jupyter_contrib_nbextensions/nbextensions). They are maintained and updated in one place so that we don't have to pip install them one by one. "
   ]
  },
  {
   "cell_type": "markdown",
   "metadata": {},
   "source": [
    "The source code for these extensions is usually located in the site-packages folder of Anaconda3. To find it yourself run the command below and check the location section"
   ]
  },
  {
   "cell_type": "code",
   "execution_count": null,
   "metadata": {},
   "outputs": [
    {
     "name": "stdout",
     "output_type": "stream",
     "text": [
      "Name: jupyter-contrib-nbextensions\n",
      "Version: 0.5.1\n",
      "Summary: A collection of Jupyter nbextensions.\n",
      "Home-page: https://github.com/ipython-contrib/jupyter_contrib_nbextensions.git\n",
      "Author: ipython-contrib and jupyter-contrib developers\n",
      "Author-email: jupytercontrib@gmail.com\n",
      "License: BSD\n",
      "Location: c:\\users\\rob\\anaconda3\\lib\\site-packages\n",
      "Requires: nbconvert, jupyter-contrib-core, ipython-genutils, tornado, notebook, jupyter-nbextensions-configurator, pyyaml, lxml, traitlets, jupyter-core, jupyter-highlight-selected-word, jupyter-latex-envs\n",
      "Required-by: \n"
     ]
    }
   ],
   "source": [
    "!pip show jupyter_contrib_nbextensions"
   ]
  },
  {
   "cell_type": "markdown",
   "metadata": {},
   "source": [
    "**Windows:**  \n",
    "`C:\\Users\\<Your Username>\\Anaconda3\\Lib\\site-packages\\jupyter_contrib_nbextensions\\nbextensions`\n",
    "\n",
    "**Linux:**  \n",
    "`/opt/anaconda3/lib/python3.7/site-packages/jupyter_contrib_nbextensions/nbextensions/` or\n",
    "`/usr/local/lib/python3.7/site-packages/jupyter_contrib_nbextensions/nbextensions`"
   ]
  },
  {
   "cell_type": "code",
   "execution_count": null,
   "metadata": {},
   "outputs": [],
   "source": []
  },
  {
   "cell_type": "markdown",
   "metadata": {},
   "source": [
    "<div class=\"alert alert-block alert-warning\"><strong>Can't find this path?</strong>\n",
    "    <ol>\n",
    "        <li>run `jupyter --paths` on command line</li>\n",
    "        <li>Check the first config folder for a file called \"jupyter_nbconvert_config.json\", it will have a \"template path\" that leads to the folder where the extensions are hosted</li>\n",
    "    </ol>\n",
    "</div>"
   ]
  },
  {
   "cell_type": "markdown",
   "metadata": {},
   "source": [
    "### Reload your extension"
   ]
  },
  {
   "cell_type": "code",
   "execution_count": null,
   "metadata": {},
   "outputs": [],
   "source": [
    "! jupyter contrib nbextension install --user"
   ]
  },
  {
   "cell_type": "markdown",
   "metadata": {},
   "source": [
    "Unfortunately we only have access to [Font Awesome 4.7 icons](https://fontawesome.com/v4.7.0/icons/)"
   ]
  },
  {
   "cell_type": "markdown",
   "metadata": {},
   "source": [
    "## Extending the notebook"
   ]
  },
  {
   "cell_type": "markdown",
   "metadata": {},
   "source": [
    "The most basic extension you can write: taken from [the docs](https://jupyter-notebook.readthedocs.io/en/latest/extending/frontend_extensions.html)"
   ]
  },
  {
   "cell_type": "markdown",
   "metadata": {},
   "source": [
    "```javascript\n",
    "define(function(){\n",
    "\n",
    "    function load_ipython_extension(){\n",
    "        console.info('this is my first extension');\n",
    "    }\n",
    "\n",
    "    return {\n",
    "        load_ipython_extension: load_ipython_extension\n",
    "    };\n",
    "});\n",
    "```"
   ]
  },
  {
   "cell_type": "markdown",
   "metadata": {},
   "source": [
    "(this part taken from the link above)\n",
    "Although for historical reasons the function is called load_ipython_extension, it does apply to the Jupyter notebook in general, and will work regardless of the kernel in use."
   ]
  },
  {
   "cell_type": "markdown",
   "metadata": {},
   "source": [
    "***"
   ]
  },
  {
   "cell_type": "markdown",
   "metadata": {},
   "source": [
    "The current namespace is exposed via base/js/namespace so we can require it and bind it to the name Jupyter to hook in. "
   ]
  },
  {
   "cell_type": "markdown",
   "metadata": {},
   "source": [
    "To see all available named actions, run this in the console `Object.keys(require('base/js/namespace').actions._actions);`\n"
   ]
  },
  {
   "cell_type": "markdown",
   "metadata": {},
   "source": [
    "***"
   ]
  },
  {
   "cell_type": "markdown",
   "metadata": {},
   "source": [
    "Install your extension with the command  \n",
    "`jupyter nbextension install path/to/my_extension/ --user`"
   ]
  },
  {
   "cell_type": "markdown",
   "metadata": {},
   "source": [
    "For development you can use the --symlink flag to symlink your extention so there's no need to reinstall after changes are made"
   ]
  },
  {
   "cell_type": "markdown",
   "metadata": {},
   "source": [
    "Enable your extension with the command  \n",
    "`jupyter nbextension enable my_extension/main [--sys-prefix][--section='common']`\n",
    "\n",
    "the my_extension.main refers to the main.js file of your extension (without the js of course), if you host it elsewhere (i.e. cooleffect.js, you will need to reference that)"
   ]
  },
  {
   "cell_type": "code",
   "execution_count": null,
   "metadata": {},
   "outputs": [
    {
     "data": {
      "application/javascript": [
       "console.log(Jupyter.notebook.config[\"data\"][\"template_message\"])\n"
      ],
      "text/plain": [
       "<IPython.core.display.Javascript object>"
      ]
     },
     "metadata": {},
     "output_type": "display_data"
    }
   ],
   "source": [
    "%%javascript\n",
    "console.log(Jupyter.notebook.config[\"data\"][\"template_message\"])"
   ]
  },
  {
   "cell_type": "code",
   "execution_count": null,
   "metadata": {},
   "outputs": [],
   "source": []
  },
  {
   "cell_type": "markdown",
   "metadata": {},
   "source": [
    "At the very top of load_ipython_extension to include CSS\n",
    "\n",
    "```\n",
    "// add css\n",
    "        $('<link rel=\"stylesheet\" type=\"text/css\">')\n",
    "            .attr('href', requirejs.toUrl('./main.css'))\n",
    "            .appendTo('head');\n",
    "```"
   ]
  },
  {
   "cell_type": "code",
   "execution_count": null,
   "metadata": {},
   "outputs": [],
   "source": [
    "<div class="
   ]
  }
 ],
 "metadata": {
  "kernelspec": {
   "display_name": "Python 3",
   "language": "python",
   "name": "python3"
  }
 },
 "nbformat": 4,
 "nbformat_minor": 4
}
